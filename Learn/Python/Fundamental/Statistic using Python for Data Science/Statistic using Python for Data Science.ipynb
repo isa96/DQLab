{
 "metadata": {
  "language_info": {
   "codemirror_mode": {
    "name": "ipython",
    "version": 3
   },
   "file_extension": ".py",
   "mimetype": "text/x-python",
   "name": "python",
   "nbconvert_exporter": "python",
   "pygments_lexer": "ipython3",
   "version": "3.7.9-final"
  },
  "orig_nbformat": 2,
  "kernelspec": {
   "name": "python3",
   "display_name": "Python 3",
   "language": "python"
  }
 },
 "nbformat": 4,
 "nbformat_minor": 2,
 "cells": [
  {
   "source": [
    "# [Load Library](https://academy.dqlab.id/main/livecode/288/538/2683)"
   ],
   "cell_type": "markdown",
   "metadata": {}
  },
  {
   "cell_type": "code",
   "execution_count": 1,
   "metadata": {},
   "outputs": [],
   "source": [
    "# memuat numpy sebagai np\n",
    "import numpy as np\n",
    " \n",
    "# memuat pandas sebagai pd\n",
    "import pandas as pd"
   ]
  },
  {
   "source": [
    "# [Load Dataset](https://academy.dqlab.id/main/livecode/288/538/2684)"
   ],
   "cell_type": "markdown",
   "metadata": {}
  },
  {
   "cell_type": "code",
   "execution_count": 2,
   "metadata": {},
   "outputs": [],
   "source": [
    "# memuat data bernama 'dataset_statistics.csv' dan memasukkan hasilnya ke dalam 'raw_data'\n",
    "raw_data = pd.read_csv(\"https://dqlab-dataset.s3-ap-southeast-1.amazonaws.com/dataset_statistic.csv\", sep=';')"
   ]
  },
  {
   "source": [
    "# [Inspeksi Data](https://academy.dqlab.id/main/livecode/288/538/2685)"
   ],
   "cell_type": "markdown",
   "metadata": {}
  },
  {
   "cell_type": "code",
   "execution_count": 3,
   "metadata": {},
   "outputs": [
    {
     "output_type": "stream",
     "name": "stdout",
     "text": [
      "    ID Pelanggan     Nama  Jenis Kelamin  Pendapatan Produk   Harga  Jumlah   \\\n0              1     Arif              1      600000      A  100000        4   \n1              2     Dian              2     1200000      D  250000        4   \n2              3    Dinda              2      950000      D  250000        3   \n3              4    Fajar              1      400000      A  100000        2   \n4              5      Ika              2     1200000      D  250000        4   \n5              6    Ilham              1      800000      B  150000        4   \n6              7    Indra              1      950000      B  150000        5   \n7              8  Kartika              2     1100000      E  300000        3   \n8              9  Lestari              2      800000      E  300000        2   \n9             10      Lia              2     1700000      E  300000        5   \n10            11    Maria              2      600000      A  100000        4   \n11            12     Maya              2      950000      B  150000        5   \n12            13     Mila              2      400000      C  200000        1   \n13            14    Nurul              2     6450000      D  250000        5   \n14            15    Retno              2     1000000      C  200000        4   \n15            16     Rini              2      800000      B  150000        4   \n16            17    Rizki              1     1200000      C  200000        5   \n17            18     Sari              2      700000      D  250000        2   \n18            19     Tyas              2      600000      A  100000        4   \n19            20    Wahyu              1      800000      C  200000        3   \n\n      Total  Tingkat Kepuasan  \n0    400000                 2  \n1   1000000                 2  \n2    750000                 3  \n3    200000                 3  \n4   1000000                 2  \n5    600000                 3  \n6    750000                 1  \n7    900000                 3  \n8    600000                 1  \n9   1500000                 1  \n10   400000                 3  \n11   750000                 3  \n12   200000                 2  \n13  1250000                 1  \n14   800000                 2  \n15   600000                 1  \n16  1000000                 3  \n17   500000                 1  \n18   400000                 3  \n19   600000                 1  \n   ID Pelanggan     Nama  Jenis Kelamin  Pendapatan Produk   Harga  Jumlah   \\\n0             1     Arif              1      600000      A  100000        4   \n1             2     Dian              2     1200000      D  250000        4   \n2             3    Dinda              2      950000      D  250000        3   \n3             4    Fajar              1      400000      A  100000        2   \n4             5      Ika              2     1200000      D  250000        4   \n5             6    Ilham              1      800000      B  150000        4   \n6             7    Indra              1      950000      B  150000        5   \n7             8  Kartika              2     1100000      E  300000        3   \n8             9  Lestari              2      800000      E  300000        2   \n9            10      Lia              2     1700000      E  300000        5   \n\n     Total  Tingkat Kepuasan  \n0   400000                 2  \n1  1000000                 2  \n2   750000                 3  \n3   200000                 3  \n4  1000000                 2  \n5   600000                 3  \n6   750000                 1  \n7   900000                 3  \n8   600000                 1  \n9  1500000                 1  \n    ID Pelanggan   Nama  Jenis Kelamin  Pendapatan Produk   Harga  Jumlah   \\\n15            16   Rini              2      800000      B  150000        4   \n16            17  Rizki              1     1200000      C  200000        5   \n17            18   Sari              2      700000      D  250000        2   \n18            19   Tyas              2      600000      A  100000        4   \n19            20  Wahyu              1      800000      C  200000        3   \n\n      Total  Tingkat Kepuasan  \n15   600000                 1  \n16  1000000                 3  \n17   500000                 1  \n18   400000                 3  \n19   600000                 1  \n"
     ]
    }
   ],
   "source": [
    "print (raw_data)\n",
    "# melihat 10 data pada baris pertama\n",
    "print (raw_data.head(10))\n",
    "\n",
    "# melihat 5 data pada baris terakhir\n",
    "print (raw_data.tail())"
   ]
  },
  {
   "source": [
    "# [Metode Shape](https://academy.dqlab.id/main/livecode/288/538/2703)"
   ],
   "cell_type": "markdown",
   "metadata": {}
  },
  {
   "cell_type": "code",
   "execution_count": 4,
   "metadata": {},
   "outputs": [
    {
     "output_type": "stream",
     "name": "stdout",
     "text": [
      "(20, 9)\n20\n"
     ]
    }
   ],
   "source": [
    "# melihat dimensi dari raw_data\n",
    "print (raw_data.shape)\n",
    "\n",
    "# mengambil jumlah data\n",
    "print (raw_data.shape[0])"
   ]
  },
  {
   "source": [
    "# [Melihat Kolom Dalam Dataset](https://academy.dqlab.id/main/livecode/288/538/2704)"
   ],
   "cell_type": "markdown",
   "metadata": {}
  },
  {
   "cell_type": "code",
   "execution_count": 5,
   "metadata": {},
   "outputs": [
    {
     "output_type": "stream",
     "name": "stdout",
     "text": [
      "    ID Pelanggan     Nama  Jenis Kelamin  Pendapatan Produk   Harga  Jumlah   \\\n0              1     Arif              1      600000      A  100000        4   \n1              2     Dian              2     1200000      D  250000        4   \n2              3    Dinda              2      950000      D  250000        3   \n3              4    Fajar              1      400000      A  100000        2   \n4              5      Ika              2     1200000      D  250000        4   \n5              6    Ilham              1      800000      B  150000        4   \n6              7    Indra              1      950000      B  150000        5   \n7              8  Kartika              2     1100000      E  300000        3   \n8              9  Lestari              2      800000      E  300000        2   \n9             10      Lia              2     1700000      E  300000        5   \n10            11    Maria              2      600000      A  100000        4   \n11            12     Maya              2      950000      B  150000        5   \n12            13     Mila              2      400000      C  200000        1   \n13            14    Nurul              2     6450000      D  250000        5   \n14            15    Retno              2     1000000      C  200000        4   \n15            16     Rini              2      800000      B  150000        4   \n16            17    Rizki              1     1200000      C  200000        5   \n17            18     Sari              2      700000      D  250000        2   \n18            19     Tyas              2      600000      A  100000        4   \n19            20    Wahyu              1      800000      C  200000        3   \n\n      Total  Tingkat Kepuasan  \n0    400000                 2  \n1   1000000                 2  \n2    750000                 3  \n3    200000                 3  \n4   1000000                 2  \n5    600000                 3  \n6    750000                 1  \n7    900000                 3  \n8    600000                 1  \n9   1500000                 1  \n10   400000                 3  \n11   750000                 3  \n12   200000                 2  \n13  1250000                 1  \n14   800000                 2  \n15   600000                 1  \n16  1000000                 3  \n17   500000                 1  \n18   400000                 3  \n19   600000                 1  \nIndex(['ID Pelanggan', 'Nama', 'Jenis Kelamin', 'Pendapatan', 'Produk',\n       'Harga', 'Jumlah ', 'Total', 'Tingkat Kepuasan'],\n      dtype='object')\n"
     ]
    }
   ],
   "source": [
    "print(raw_data)\n",
    "print(raw_data.columns)"
   ]
  },
  {
   "source": [
    "# [Metode Isna](https://academy.dqlab.id/main/livecode/288/538/2705)"
   ],
   "cell_type": "markdown",
   "metadata": {}
  },
  {
   "cell_type": "code",
   "execution_count": 6,
   "metadata": {},
   "outputs": [
    {
     "output_type": "stream",
     "name": "stdout",
     "text": [
      "    ID Pelanggan   Nama  Jenis Kelamin  Pendapatan  Produk  Harga  Jumlah   \\\n0          False  False          False       False   False  False    False   \n1          False  False          False       False   False  False    False   \n2          False  False          False       False   False  False    False   \n3          False  False          False       False   False  False    False   \n4          False  False          False       False   False  False    False   \n5          False  False          False       False   False  False    False   \n6          False  False          False       False   False  False    False   \n7          False  False          False       False   False  False    False   \n8          False  False          False       False   False  False    False   \n9          False  False          False       False   False  False    False   \n10         False  False          False       False   False  False    False   \n11         False  False          False       False   False  False    False   \n12         False  False          False       False   False  False    False   \n13         False  False          False       False   False  False    False   \n14         False  False          False       False   False  False    False   \n15         False  False          False       False   False  False    False   \n16         False  False          False       False   False  False    False   \n17         False  False          False       False   False  False    False   \n18         False  False          False       False   False  False    False   \n19         False  False          False       False   False  False    False   \n\n    Total  Tingkat Kepuasan  \n0   False             False  \n1   False             False  \n2   False             False  \n3   False             False  \n4   False             False  \n5   False             False  \n6   False             False  \n7   False             False  \n8   False             False  \n9   False             False  \n10  False             False  \n11  False             False  \n12  False             False  \n13  False             False  \n14  False             False  \n15  False             False  \n16  False             False  \n17  False             False  \n18  False             False  \n19  False             False  \nID Pelanggan        0\nNama                0\nJenis Kelamin       0\nPendapatan          0\nProduk              0\nHarga               0\nJumlah              0\nTotal               0\nTingkat Kepuasan    0\ndtype: int64\n"
     ]
    }
   ],
   "source": [
    "print (raw_data.isna())\n",
    "print (raw_data.isna().sum())"
   ]
  },
  {
   "source": [
    " # [Metode Describe](https://academy.dqlab.id/main/livecode/288/538/2706)"
   ],
   "cell_type": "markdown",
   "metadata": {}
  },
  {
   "cell_type": "code",
   "execution_count": 7,
   "metadata": {},
   "outputs": [
    {
     "output_type": "stream",
     "name": "stdout",
     "text": [
      "       ID Pelanggan  Jenis Kelamin    Pendapatan          Harga    Jumlah   \\\ncount      20.00000      20.000000  2.000000e+01      20.000000  20.000000   \nmean       10.50000       1.700000  1.160000e+06  197500.000000   3.650000   \nstd         5.91608       0.470162  1.282842e+06   69726.910912   1.182103   \nmin         1.00000       1.000000  4.000000e+05  100000.000000   1.000000   \n25%         5.75000       1.000000  6.750000e+05  150000.000000   3.000000   \n50%        10.50000       2.000000  8.750000e+05  200000.000000   4.000000   \n75%        15.25000       2.000000  1.125000e+06  250000.000000   4.250000   \nmax        20.00000       2.000000  6.450000e+06  300000.000000   5.000000   \n\n              Total  Tingkat Kepuasan  \ncount  2.000000e+01         20.000000  \nmean   7.100000e+05          2.050000  \nstd    3.338768e+05          0.887041  \nmin    2.000000e+05          1.000000  \n25%    4.750000e+05          1.000000  \n50%    6.750000e+05          2.000000  \n75%    9.250000e+05          3.000000  \nmax    1.500000e+06          3.000000  \n"
     ]
    },
    {
     "output_type": "execute_result",
     "data": {
      "text/plain": [
       "100000"
      ]
     },
     "metadata": {},
     "execution_count": 7
    }
   ],
   "source": [
    "print (raw_data.describe())\n",
    "\n",
    "# Mencari nilai maksimum dari tiap kolom\n",
    "raw_data.max()\n",
    " \n",
    "# Mencari nilai maksimum dari kolom 'Harga'\n",
    "raw_data['Harga'].max()\n",
    " \n",
    "# Mencari nilai minimum dari kolom 'Harga'\n",
    "raw_data['Harga'].min()"
   ]
  },
  {
   "source": [
    "# [Metode Sum](https://academy.dqlab.id/main/livecode/288/538/2707)"
   ],
   "cell_type": "markdown",
   "metadata": {}
  },
  {
   "cell_type": "code",
   "execution_count": 8,
   "metadata": {},
   "outputs": [
    {
     "output_type": "stream",
     "name": "stdout",
     "text": [
      "ID Pelanggan                                                      210\nNama                ArifDianDindaFajarIkaIlhamIndraKartikaLestariL...\nJenis Kelamin                                                      34\nPendapatan                                                   23200000\nProduk                                           ADDADBBEEEABCDCBCDAC\nHarga                                                         3950000\nJumlah                                                             73\nTotal                                                        14200000\nTingkat Kepuasan                                                   41\ndtype: object\n"
     ]
    },
    {
     "output_type": "execute_result",
     "data": {
      "text/plain": [
       "Harga          3950000\n",
       "Pendapatan    23200000\n",
       "dtype: int64"
      ]
     },
     "metadata": {},
     "execution_count": 8
    }
   ],
   "source": [
    "# menghitung jumlah dari semua kolom\n",
    "print (raw_data.sum())\n",
    " \n",
    "# menghitung jumlah dari semua kolom bertipe data numerik saja\n",
    "raw_data.sum(numeric_only=True)\n",
    " \n",
    "# menghitung jumlah dari kolom 'Harga' dan 'Pendapatan'\n",
    "raw_data[['Harga', 'Pendapatan']].sum()"
   ]
  },
  {
   "source": [
    "# [Manipulasi Dataframe - Memilih Kolom dan Baris](https://academy.dqlab.id/main/livecode/288/538/2708)"
   ],
   "cell_type": "markdown",
   "metadata": {}
  },
  {
   "cell_type": "code",
   "execution_count": 9,
   "metadata": {},
   "outputs": [
    {
     "output_type": "stream",
     "name": "stdout",
     "text": [
      "0      600000\n1     1200000\n2      950000\n3      400000\n4     1200000\n5      800000\n6      950000\n7     1100000\n8      800000\n9     1700000\n10     600000\n11     950000\n12     400000\n13    6450000\n14    1000000\n15     800000\n16    1200000\n17     700000\n18     600000\n19     800000\nName: Pendapatan, dtype: int64\n    Jenis Kelamin  Pendapatan\n0               1      600000\n1               2     1200000\n2               2      950000\n3               1      400000\n4               2     1200000\n5               1      800000\n6               1      950000\n7               2     1100000\n8               2      800000\n9               2     1700000\n10              2      600000\n11              2      950000\n12              2      400000\n13              2     6450000\n14              2     1000000\n15              2      800000\n16              1     1200000\n17              2      700000\n18              2      600000\n19              1      800000\n"
     ]
    }
   ],
   "source": [
    "# Memilih kolom 'Pendapatan' saja\n",
    "print (raw_data['Pendapatan'])\n",
    " \n",
    "# Memilih kolom 'Jenis Kelamin' dan 'Pendapatan'\n",
    "print (raw_data[['Jenis Kelamin', 'Pendapatan']])"
   ]
  },
  {
   "source": [
    "# [Metode Loc](https://academy.dqlab.id/main/livecode/288/538/2709)"
   ],
   "cell_type": "markdown",
   "metadata": {}
  },
  {
   "cell_type": "code",
   "execution_count": 10,
   "metadata": {},
   "outputs": [
    {
     "output_type": "stream",
     "name": "stdout",
     "text": [
      "   ID Pelanggan     Nama  Jenis Kelamin  Pendapatan Produk   Harga  Jumlah   \\\n0             1     Arif              1      600000      A  100000        4   \n1             2     Dian              2     1200000      D  250000        4   \n2             3    Dinda              2      950000      D  250000        3   \n3             4    Fajar              1      400000      A  100000        2   \n4             5      Ika              2     1200000      D  250000        4   \n5             6    Ilham              1      800000      B  150000        4   \n6             7    Indra              1      950000      B  150000        5   \n7             8  Kartika              2     1100000      E  300000        3   \n8             9  Lestari              2      800000      E  300000        2   \n9            10      Lia              2     1700000      E  300000        5   \n\n     Total  Tingkat Kepuasan  \n0   400000                 2  \n1  1000000                 2  \n2   750000                 3  \n3   200000                 3  \n4  1000000                 2  \n5   600000                 3  \n6   750000                 1  \n7   900000                 3  \n8   600000                 1  \n9  1500000                 1  \n   ID Pelanggan   Nama  Jenis Kelamin  Pendapatan Produk   Harga  Jumlah   \\\n3             4  Fajar              1      400000      A  100000        2   \n4             5    Ika              2     1200000      D  250000        4   \n\n     Total  Tingkat Kepuasan  \n3   200000                 3  \n4  1000000                 2  \n    ID Pelanggan   Nama  Jenis Kelamin  Pendapatan Produk   Harga  Jumlah   \\\n1              2   Dian              2     1200000      D  250000        4   \n3              4  Fajar              1      400000      A  100000        2   \n10            11  Maria              2      600000      A  100000        4   \n\n      Total  Tingkat Kepuasan  \n1   1000000                 2  \n3    200000                 3  \n10   400000                 3  \n   Jenis Kelamin  Pendapatan\n1              2     1200000\n2              2      950000\n3              1      400000\n4              2     1200000\n5              1      800000\n6              1      950000\n7              2     1100000\n8              2      800000\n9              2     1700000\n     Harga  Tingkat Kepuasan\n1   250000                 2\n10  100000                 3\n15  150000                 1\n"
     ]
    }
   ],
   "source": [
    "# mengambil data dari baris ke-0 sampai baris ke-(10-1) atau baris ke-9\n",
    "print(raw_data[:10])\n",
    " \n",
    "# mengambil data dari baris ke-3 sampai baris ke-(5-1) atau baris ke-4\n",
    "print(raw_data[3:5])\n",
    " \n",
    "# mengambil data pada baris ke-1, ke-3 dan ke-10\n",
    "print(raw_data.loc[[1,3,10]])\n",
    "\n",
    "# Mengambil kolom 'Jenis Kelamin' dan 'Pendapatan' dan ambil baris ke-1 sampai ke-9\n",
    "print(raw_data[['Jenis Kelamin', 'Pendapatan']][1:10])\n",
    " \n",
    "# Mengambil kolom 'Harga' dan 'Tingkat Kepuasan' dan ambil baris ke-1, ke-10 dan ke-15\n",
    "print(raw_data[['Harga', 'Tingkat Kepuasan']].loc[[1,10,15]])"
   ]
  },
  {
   "source": [
    "# [Rata-rata (Mean)](https://academy.dqlab.id/main/livecode/288/539/2687)"
   ],
   "cell_type": "markdown",
   "metadata": {}
  },
  {
   "cell_type": "code",
   "execution_count": 11,
   "metadata": {},
   "outputs": [
    {
     "output_type": "stream",
     "name": "stdout",
     "text": [
      "550000.0\n550000.0\n"
     ]
    }
   ],
   "source": [
    "# mengambil hanya data untuk produk 'A'\n",
    "produk_A = raw_data[raw_data['Produk'] == 'A']\n",
    " \n",
    "# menghitung rerata pendapatan menggunakan method .mean pada objek pandas DataFrame\n",
    "print (produk_A['Pendapatan'].mean())\n",
    " \n",
    "# menghitung rerata pendapatan menggunakan method .mean pada objek pandas DataFrame dengan numpy\n",
    "print (np.mean(produk_A['Pendapatan']))"
   ]
  },
  {
   "source": [
    "# [Median](https://academy.dqlab.id/main/livecode/288/539/2688)"
   ],
   "cell_type": "markdown",
   "metadata": {}
  },
  {
   "cell_type": "code",
   "execution_count": 12,
   "metadata": {},
   "outputs": [
    {
     "output_type": "stream",
     "name": "stdout",
     "text": [
      "    ID Pelanggan     Nama  Jenis Kelamin  Pendapatan Produk   Harga  Jumlah   \\\n0              1     Arif              1      600000      A  100000        4   \n1              2     Dian              2     1200000      D  250000        4   \n2              3    Dinda              2      950000      D  250000        3   \n3              4    Fajar              1      400000      A  100000        2   \n4              5      Ika              2     1200000      D  250000        4   \n5              6    Ilham              1      800000      B  150000        4   \n6              7    Indra              1      950000      B  150000        5   \n7              8  Kartika              2     1100000      E  300000        3   \n8              9  Lestari              2      800000      E  300000        2   \n9             10      Lia              2     1700000      E  300000        5   \n10            11    Maria              2      600000      A  100000        4   \n11            12     Maya              2      950000      B  150000        5   \n12            13     Mila              2      400000      C  200000        1   \n13            14    Nurul              2     6450000      D  250000        5   \n14            15    Retno              2     1000000      C  200000        4   \n15            16     Rini              2      800000      B  150000        4   \n16            17    Rizki              1     1200000      C  200000        5   \n17            18     Sari              2      700000      D  250000        2   \n18            19     Tyas              2      600000      A  100000        4   \n19            20    Wahyu              1      800000      C  200000        3   \n\n      Total  Tingkat Kepuasan  \n0    400000                 2  \n1   1000000                 2  \n2    750000                 3  \n3    200000                 3  \n4   1000000                 2  \n5    600000                 3  \n6    750000                 1  \n7    900000                 3  \n8    600000                 1  \n9   1500000                 1  \n10   400000                 3  \n11   750000                 3  \n12   200000                 2  \n13  1250000                 1  \n14   800000                 2  \n15   600000                 1  \n16  1000000                 3  \n17   500000                 1  \n18   400000                 3  \n19   600000                 1  \n600000.0\n600000.0\n"
     ]
    }
   ],
   "source": [
    "print (raw_data)\n",
    "# Hitung median dari pendapatan menggunakan pandas\n",
    "print (produk_A['Pendapatan'].median())\n",
    "\n",
    "# Hitung median dari pendapatan menggunakan numpy\n",
    "print (np.median(produk_A['Pendapatan']))"
   ]
  },
  {
   "source": [
    "# [Modus](https://academy.dqlab.id/main/livecode/288/539/2689)"
   ],
   "cell_type": "markdown",
   "metadata": {}
  },
  {
   "cell_type": "code",
   "execution_count": 13,
   "metadata": {},
   "outputs": [
    {
     "output_type": "stream",
     "name": "stdout",
     "text": [
      "D    5\nB    4\nA    4\nC    4\nE    3\nName: Produk, dtype: int64\n"
     ]
    }
   ],
   "source": [
    "# Melihat jumlah dari masing-masing produk\n",
    "print (raw_data['Produk'].value_counts())"
   ]
  },
  {
   "source": [
    "# [Kuantil](https://academy.dqlab.id/main/livecode/288/539/2712)"
   ],
   "cell_type": "markdown",
   "metadata": {}
  },
  {
   "cell_type": "code",
   "execution_count": 14,
   "metadata": {},
   "outputs": [
    {
     "output_type": "stream",
     "name": "stdout",
     "text": [
      "875000.0\n875000.0\n"
     ]
    }
   ],
   "source": [
    "# mencari median atau 50% dari data menggunakan pandas\n",
    "print (raw_data['Pendapatan'].quantile(q = 0.5))\n",
    "\n",
    "# mencari median atau 50% dari data menggunakan pandas\n",
    "print (np.quantile(raw_data['Pendapatan'], q=0.5))"
   ]
  },
  {
   "source": [
    "# [Agregasi Data dengan method .agg()](https://academy.dqlab.id/main/livecode/288/539/2713)"
   ],
   "cell_type": "markdown",
   "metadata": {}
  },
  {
   "cell_type": "code",
   "execution_count": 15,
   "metadata": {},
   "outputs": [
    {
     "output_type": "stream",
     "name": "stdout",
     "text": [
      "        Pendapatan     Harga\nmean     1160000.0  197500.0\nmedian    875000.0  200000.0\n       Pendapatan            Harga        \n             mean   median    mean  median\nProduk                                    \nA          550000   600000  100000  100000\nB          875000   875000  150000  150000\nC          850000   900000  200000  200000\nD         2100000  1200000  250000  250000\nE         1200000  1100000  300000  300000\n"
     ]
    }
   ],
   "source": [
    "# menghitung rerata dan median usia (age) dan insulin (insu)\n",
    "print (raw_data[['Pendapatan', 'Harga']].agg([np.mean, np.median]))\n",
    "\n",
    "# menghitung rerata dan median Pendapatan dan Harga dari tiap produk\n",
    "print (raw_data[['Pendapatan', 'Harga', 'Produk']].groupby('Produk').agg([np.mean, np.median]))"
   ]
  },
  {
   "source": [
    "# [Proporsi Kategori](https://academy.dqlab.id/main/livecode/288/540/2691)"
   ],
   "cell_type": "markdown",
   "metadata": {}
  },
  {
   "cell_type": "code",
   "execution_count": 16,
   "metadata": {},
   "outputs": [
    {
     "output_type": "stream",
     "name": "stdout",
     "text": [
      "D    0.25\nB    0.20\nA    0.20\nC    0.20\nE    0.15\nName: Produk, dtype: float64\n"
     ]
    }
   ],
   "source": [
    "# cari proporsi tiap Produk\n",
    "print (raw_data['Produk'].value_counts()/raw_data.shape[0])"
   ]
  },
  {
   "source": [
    "# [Ukuran Sebaran pada Data Interval dan Rasio](https://academy.dqlab.id/main/livecode/288/540/2692)"
   ],
   "cell_type": "markdown",
   "metadata": {}
  },
  {
   "cell_type": "code",
   "execution_count": 17,
   "metadata": {},
   "outputs": [
    {
     "output_type": "stream",
     "name": "stdout",
     "text": [
      "6050000\n"
     ]
    }
   ],
   "source": [
    "# Cari nilai rentang dari kolom 'Pendapatan'\n",
    "print (raw_data['Pendapatan'].max() - raw_data['Pendapatan'].min())"
   ]
  },
  {
   "source": [
    "# [Variansi](https://academy.dqlab.id/main/livecode/288/540/2693)"
   ],
   "cell_type": "markdown",
   "metadata": {}
  },
  {
   "cell_type": "code",
   "execution_count": 18,
   "metadata": {},
   "outputs": [
    {
     "output_type": "stream",
     "name": "stdout",
     "text": [
      "1645684210526.3157\n1563400000000.0\n1563400000000.0\n"
     ]
    }
   ],
   "source": [
    "# menghitung variansi umur menggunakan method .var() dari pandas\n",
    "print (raw_data['Pendapatan'].var())\n",
    " \n",
    "# menghitung variansi umur menggunakan method .var() dari numpy\n",
    "print (np.var(raw_data['Pendapatan']))\n",
    "\n",
    "# mengatur variansi populasi dengan method `.var()` dari pandas\n",
    "print (raw_data['Pendapatan'].var(ddof=0))"
   ]
  },
  {
   "source": [
    "# [Deviasi Baku (Standard Deviation)](https://academy.dqlab.id/main/livecode/288/540/2694)"
   ],
   "cell_type": "markdown",
   "metadata": {}
  },
  {
   "cell_type": "code",
   "execution_count": 19,
   "metadata": {},
   "outputs": [
    {
     "output_type": "stream",
     "name": "stdout",
     "text": [
      "1282842.2391417876\n1282842.2391417876\n"
     ]
    }
   ],
   "source": [
    "# menghitung deviasi baku sampel pendapatan menggunakan method std() dari pandas\n",
    "print (raw_data['Pendapatan'].std())\n",
    " \n",
    "# menghitung deviasi baku sampel pendapatan menggunakan method std() dari numpy\n",
    "print (np.std(raw_data['Pendapatan'], ddof = 1))"
   ]
  },
  {
   "source": [
    "# [Menghitung Korelasi](https://academy.dqlab.id/main/livecode/288/541/2720)"
   ],
   "cell_type": "markdown",
   "metadata": {}
  },
  {
   "cell_type": "code",
   "execution_count": 20,
   "metadata": {},
   "outputs": [
    {
     "output_type": "stream",
     "name": "stdout",
     "text": [
      "                  ID Pelanggan  Jenis Kelamin  Pendapatan     Harga   Jumlah   \\\n",
      "ID Pelanggan          1.000000       0.151375    0.110958 -0.028707  0.011289   \n",
      "Jenis Kelamin         0.151375       1.000000    0.192849  0.457555 -0.104168   \n",
      "Pendapatan            0.110958       0.192849    1.000000  0.322443  0.399825   \n",
      "Harga                -0.028707       0.457555    0.322443  1.000000 -0.138883   \n",
      "Jumlah                0.011289      -0.104168    0.399825 -0.138883  1.000000   \n",
      "Total                -0.039968       0.238051    0.592044  0.645455  0.636097   \n",
      "Tingkat Kepuasan     -0.245717      -0.088339   -0.312663 -0.380798  0.017568   \n",
      "\n",
      "                     Total  Tingkat Kepuasan  \n",
      "ID Pelanggan     -0.039968         -0.245717  \n",
      "Jenis Kelamin     0.238051         -0.088339  \n",
      "Pendapatan        0.592044         -0.312663  \n",
      "Harga             0.645455         -0.380798  \n",
      "Jumlah            0.636097          0.017568  \n",
      "Total             1.000000         -0.268345  \n",
      "Tingkat Kepuasan -0.268345          1.000000  \n",
      "                  ID Pelanggan  Jenis Kelamin  Pendapatan     Harga   Jumlah   \\\n",
      "ID Pelanggan          1.000000       0.126650   -0.054998 -0.005753  0.024016   \n",
      "Jenis Kelamin         0.126650       1.000000    0.190245  0.415339 -0.090299   \n",
      "Pendapatan           -0.054998       0.190245    1.000000  0.523053  0.501925   \n",
      "Harga                -0.005753       0.415339    0.523053  1.000000 -0.098450   \n",
      "Jumlah                0.024016      -0.090299    0.501925 -0.098450  1.000000   \n",
      "Total                -0.065998       0.190245    0.988506  0.535078  0.501925   \n",
      "Tingkat Kepuasan     -0.183817      -0.085796   -0.165588 -0.325659 -0.028923   \n",
      "\n",
      "                     Total  Tingkat Kepuasan  \n",
      "ID Pelanggan     -0.065998         -0.183817  \n",
      "Jenis Kelamin     0.190245         -0.085796  \n",
      "Pendapatan        0.988506         -0.165588  \n",
      "Harga             0.535078         -0.325659  \n",
      "Jumlah            0.501925         -0.028923  \n",
      "Total             1.000000         -0.165588  \n",
      "Tingkat Kepuasan -0.165588          1.000000  \n",
      "                  ID Pelanggan  Jenis Kelamin  Pendapatan     Harga   Jumlah   \\\n",
      "ID Pelanggan          1.000000       0.151375   -0.063711 -0.039149  0.046356   \n",
      "Jenis Kelamin         0.151375       1.000000    0.219508  0.463635 -0.098864   \n",
      "Pendapatan           -0.063711       0.219508    1.000000  0.640000  0.607110   \n",
      "Harga                -0.039149       0.463635    0.640000  1.000000 -0.130749   \n",
      "Jumlah                0.046356      -0.098864    0.607110 -0.130749  1.000000   \n",
      "Total                -0.069779       0.219508    0.998470  0.646194  0.607110   \n",
      "Tingkat Kepuasan     -0.238890      -0.090784   -0.192463 -0.378933 -0.023874   \n",
      "\n",
      "                     Total  Tingkat Kepuasan  \n",
      "ID Pelanggan     -0.069779         -0.238890  \n",
      "Jenis Kelamin     0.219508         -0.090784  \n",
      "Pendapatan        0.998470         -0.192463  \n",
      "Harga             0.646194         -0.378933  \n",
      "Jumlah            0.607110         -0.023874  \n",
      "Total             1.000000         -0.192463  \n",
      "Tingkat Kepuasan -0.192463          1.000000  \n"
     ]
    }
   ],
   "source": [
    "# menghitung korelasi dari setiap pasang variabel pada raw_data\n",
    "print (raw_data.corr())\n",
    "\n",
    "# mencari korelasi 'kendall' untuk tiap pasang variabel\n",
    "print (raw_data.corr(method='kendall'))\n",
    " \n",
    "# mencari korelasi 'spearman' untuk tiap pasang variabel\n",
    "print (raw_data.corr(method='spearman'))"
   ]
  }
 ]
}
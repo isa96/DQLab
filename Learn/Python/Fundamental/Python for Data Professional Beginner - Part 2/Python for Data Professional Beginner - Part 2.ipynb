{
 "metadata": {
  "language_info": {
   "codemirror_mode": {
    "name": "ipython",
    "version": 3
   },
   "file_extension": ".py",
   "mimetype": "text/x-python",
   "name": "python",
   "nbconvert_exporter": "python",
   "pygments_lexer": "ipython3",
   "version": "3.7.9-final"
  },
  "orig_nbformat": 2,
  "kernelspec": {
   "name": "python3",
   "display_name": "Python 3",
   "language": "python"
  }
 },
 "nbformat": 4,
 "nbformat_minor": 2,
 "cells": [
  {
   "source": [
    "# [Mengakses List dan Tuple – Part 1](https://academy.dqlab.id/main/livecode/160/296/1315)"
   ],
   "cell_type": "markdown",
   "metadata": {}
  },
  {
   "cell_type": "code",
   "execution_count": 1,
   "metadata": {},
   "outputs": [
    {
     "output_type": "stream",
     "name": "stdout",
     "text": [
      "Januari\nJuni\nDesember\nNovember\n"
     ]
    }
   ],
   "source": [
    "bulan_pembelian = ('Januari', \n",
    "\t\t\t\t   'Februari',\n",
    "\t\t\t\t   'Maret',\n",
    "\t\t\t\t   'April',\n",
    "\t\t\t\t   'Mei',\n",
    "\t\t\t\t   'Juni',\n",
    "\t\t\t\t   'Juli',\n",
    "\t\t\t\t   'Agustus',\n",
    "\t\t\t\t   'September',\n",
    "\t\t\t\t   'Oktober',\n",
    "\t\t\t\t   'November',\n",
    "\t\t\t\t   'Desember')\n",
    "print(bulan_pembelian[0])\n",
    "print(bulan_pembelian[5])\n",
    "print(bulan_pembelian[-1])\n",
    "print(bulan_pembelian[-2])"
   ]
  },
  {
   "source": [
    "# [Mengakses List dan Tuple – Part 2](https://academy.dqlab.id/main/livecode/160/296/1316)"
   ],
   "cell_type": "markdown",
   "metadata": {}
  },
  {
   "cell_type": "code",
   "execution_count": 2,
   "metadata": {},
   "outputs": [
    {
     "output_type": "stream",
     "name": "stdout",
     "text": [
      "('Mei', 'Juni', 'Juli', 'Agustus')\n",
      "('Januari', 'Februari', 'Maret', 'April', 'Mei')\n",
      "('September', 'Oktober', 'November', 'Desember')\n",
      "('September', 'Oktober', 'November')\n"
     ]
    }
   ],
   "source": [
    "bulan_pembelian = ('Januari', \n",
    "\t\t\t\t   'Februari',\n",
    "\t\t\t\t   'Maret',\n",
    "\t\t\t\t   'April',\n",
    "\t\t\t\t   'Mei',\n",
    "\t\t\t\t   'Juni',\n",
    "\t\t\t\t   'Juli',\n",
    "\t\t\t\t   'Agustus',\n",
    "\t\t\t\t   'September',\n",
    "\t\t\t\t   'Oktober',\n",
    "\t\t\t\t   'November',\n",
    "\t\t\t\t   'Desember')\n",
    "pertengahan_tahun = bulan_pembelian[4:8]\n",
    "print(pertengahan_tahun)\n",
    "awal_tahun = bulan_pembelian[:5]\n",
    "print(awal_tahun)\n",
    "akhir_tahun = bulan_pembelian[8:]\n",
    "print(akhir_tahun)\n",
    "print(bulan_pembelian[-4:-1])"
   ]
  },
  {
   "source": [
    "# [Penggabungan Dua atau Lebih List atau Tuple](https://academy.dqlab.id/main/livecode/160/296/1317)"
   ],
   "cell_type": "markdown",
   "metadata": {}
  },
  {
   "cell_type": "code",
   "execution_count": 3,
   "metadata": {},
   "outputs": [
    {
     "output_type": "stream",
     "name": "stdout",
     "text": [
      "['Gado-gado', 'Ayam Goreng', 'Rendang', 'Es Teh', 'Es Jeruk', 'Es Campur']\n"
     ]
    }
   ],
   "source": [
    "list_makanan = ['Gado-gado', 'Ayam Goreng', 'Rendang']\n",
    "list_minuman = ['Es Teh', 'Es Jeruk', 'Es Campur']\n",
    "list_menu = list_makanan + list_minuman\n",
    "print(list_menu)"
   ]
  },
  {
   "source": [
    "# [List Manipulation – Part 1](https://academy.dqlab.id/main/livecode/160/296/1319)"
   ],
   "cell_type": "markdown",
   "metadata": {}
  },
  {
   "cell_type": "code",
   "execution_count": 4,
   "metadata": {},
   "outputs": [
    {
     "output_type": "stream",
     "name": "stdout",
     "text": [
      ">>> Fitur .append()\n['Gado-gado', 'Ayam Goreng', 'Rendang', 'Ketoprak']\n>>> Fitur .clear()\n[]\n>>> Fitur .copy()\n['Gado-gado', 'Ayam Goreng', 'Rendang', 'Ketoprak']\n['Gado-gado', 'Ayam Goreng', 'Rendang', 'Opor']\n>>> Fitur .count()\n4\n3\n>>> Fitur .extend()\n['Gado-gado', 'Ayam Goreng', 'Rendang', 'Es Teh', 'Es Jeruk', 'Es Campur']\n"
     ]
    }
   ],
   "source": [
    "# Fitur .append()\n",
    "print(\">>> Fitur .append()\")\n",
    "list_makanan = ['Gado-gado', 'Ayam Goreng', 'Rendang']\n",
    "list_makanan.append('Ketoprak')\n",
    "print(list_makanan)\n",
    "# Fitur .clear()\n",
    "print(\">>> Fitur .clear()\")\n",
    "list_makanan = ['Gado-gado', 'Ayam Goreng', 'Rendang']\n",
    "list_makanan.clear()\n",
    "print(list_makanan)\n",
    "# Fitur .copy()\n",
    "print(\">>> Fitur .copy()\")\n",
    "list_makanan1 = ['Gado-gado', 'Ayam Goreng', 'Rendang']\n",
    "list_makanan2 = list_makanan1.copy()\n",
    "list_makanan3 = list_makanan1\n",
    "list_makanan2.append('Opor')\n",
    "list_makanan3.append('Ketoprak')\n",
    "print(list_makanan1)\n",
    "print(list_makanan2)\n",
    "# Fitur .count()\n",
    "print(\">>> Fitur .count()\")\n",
    "list_score = ['Budi', 'Sud', 'Budi', 'Budi', 'Budi', 'Sud', 'Sud']\n",
    "score_budi = list_score.count('Budi')\n",
    "score_sud = list_score.count('Sud')\n",
    "print(score_budi) # akan menampilkan output 4\n",
    "print(score_sud) # akan menampilkan output 3\n",
    "# Fitur .extend()\n",
    "print(\">>> Fitur .extend()\")\n",
    "list_menu = ['Gado-gado', 'Ayam Goreng', 'Rendang']\n",
    "list_minuman = ['Es Teh', 'Es Jeruk', 'Es Campur']\n",
    "list_menu.extend(list_minuman)\n",
    "print(list_menu)"
   ]
  },
  {
   "source": [
    "# [List Manipulation – Part 2](https://academy.dqlab.id/main/livecode/160/296/1320)"
   ],
   "cell_type": "markdown",
   "metadata": {}
  },
  {
   "cell_type": "code",
   "execution_count": 5,
   "metadata": {},
   "outputs": [
    {
     "output_type": "stream",
     "name": "stdout",
     "text": [
      ">>> Fitur .index()\n2\n>>> Fitur .insert()\n['Budi', 'Sud', 'Budi', 'Sud', 'Budi', 'Sud']\n>>> Fitur .pop()\n['Gado-gado', 'Rendang']\n>>> Fitur .remove()\n['Gado-gado', 'Ayam Goreng', 'Ketoprak']\n>>> Fitur .reverse()\n['Ketoprak', 'Rendang', 'Ayam Goreng', 'Gado-gado']\n>>> Fitur .sort()\n['Ayam Goreng', 'Gado-gado', 'Ketoprak', 'Rendang']\n['Rendang', 'Ketoprak', 'Gado-gado', 'Ayam Goreng']\n"
     ]
    }
   ],
   "source": [
    "# Fitur .index()\n",
    "print(\">>> Fitur .index()\")\n",
    "list_score = ['Budi','Sud','Budi','Budi','Budi','Sud','Sud']\n",
    "score_pertama_sud = list_score.index('Sud') + 1\n",
    "print(score_pertama_sud) # akan menampilkan output 2\n",
    "# Fitur .insert()\n",
    "print(\">>> Fitur .insert()\")\n",
    "list_score = ['Budi','Sud','Budi','Budi','Sud']\n",
    "list_score.insert(3, 'Sud')\n",
    "print(list_score)\n",
    "# Fitur .pop()\n",
    "print(\">>> Fitur .pop()\")\n",
    "list_menu = ['Gado-gado', 'Ayam Goreng', 'Rendang']\n",
    "list_menu.pop(1)\n",
    "print(list_menu)\n",
    "# Fitur .remove()\n",
    "print(\">>> Fitur .remove()\")\n",
    "list_menu = ['Gado-gado', 'Ayam Goreng', 'Rendang', 'Ketoprak']\n",
    "list_menu.remove('Rendang')\n",
    "print(list_menu)\n",
    "# Fitur .reverse()\n",
    "print(\">>> Fitur .reverse()\")\n",
    "list_menu = ['Gado-gado', 'Ayam Goreng', 'Rendang', 'Ketoprak']\n",
    "list_menu.reverse()\n",
    "print(list_menu)\n",
    "# Fitur .sort()\n",
    "print(\">>> Fitur .sort()\")\n",
    "list_menu = ['Gado-gado', 'Ayam Goreng', 'Rendang', 'Ketoprak']\n",
    "list_menu.sort() # Default: Ascending\n",
    "print(list_menu) \n",
    "list_menu.sort(reverse=True)# Descending\n",
    "print(list_menu) "
   ]
  },
  {
   "source": [
    "# [Tuple Manipulation](https://academy.dqlab.id/main/livecode/160/296/1321)"
   ],
   "cell_type": "markdown",
   "metadata": {}
  },
  {
   "cell_type": "code",
   "execution_count": 6,
   "metadata": {},
   "outputs": [
    {
     "output_type": "stream",
     "name": "stdout",
     "text": [
      ">>> Fitur .count()\n4\n3\n>>> Fitur .index()\n2\n"
     ]
    }
   ],
   "source": [
    "# Fitur .count()\n",
    "print(\">>> Fitur .count()\")\n",
    "tuple_score = ('Budi', 'Sud', 'Budi', 'Budi', 'Budi', 'Sud', 'Sud')\n",
    "score_budi = tuple_score.count('Budi')\n",
    "score_sud = tuple_score.count('Sud')\n",
    "print(score_budi) # akan menampilkan output 4\n",
    "print(score_sud) # akan menampilkan output 3\n",
    "# Fitur .index()\n",
    "print(\">>> Fitur .index()\")\n",
    "tuple_score = ('Budi','Sud','Budi','Budi','Budi','Sud','Sud')\n",
    "score_pertama_sud = tuple_score.index('Sud')+1\n",
    "print(score_pertama_sud) # akan menampilkan output 2"
   ]
  },
  {
   "source": [
    "# [Set Manipulation – Part 1](https://academy.dqlab.id/main/livecode/160/296/1323)"
   ],
   "cell_type": "markdown",
   "metadata": {}
  },
  {
   "cell_type": "code",
   "execution_count": 7,
   "metadata": {},
   "outputs": [
    {
     "output_type": "stream",
     "name": "stdout",
     "text": [
      ">>> Fitur .add()\n{'Anggur', 'Melon', 'Apel', 'Jeruk'}\n>>> Fitur .clear()\nset()\n>>> Fitur .copy()\n{'Anggur', 'Melon', 'Apel', 'Jeruk'}\n{'Anggur', 'Melon', 'Apel', 'Jeruk'}\n>>> Fitur .update()\n{'Apel', 'Jeruk', 'Anggur', 'Melon', 'Kiwi'}\n>>> Fitur .pop()\nAnggur\n{'Apel', 'Jeruk'}\n>>> Fitur .remove()\n{'Anggur', 'Jeruk'}\n"
     ]
    }
   ],
   "source": [
    "# Fitur .add()\n",
    "print(\">>> Fitur .add()\")\n",
    "set_buah = {'Jeruk','Apel','Anggur'}\n",
    "set_buah.add('Melon')\n",
    "print(set_buah)\n",
    "# Fitur .clear()\n",
    "print(\">>> Fitur .clear()\")\n",
    "set_buah = {'Jeruk','Apel','Anggur'}\n",
    "set_buah.clear()\n",
    "print(set_buah)\n",
    "# Fitur .copy()\n",
    "print(\">>> Fitur .copy()\")\n",
    "set_buah1 = {'Jeruk','Apel','Anggur'}\n",
    "set_buah2 = set_buah1\n",
    "set_buah3 = set_buah1.copy()\n",
    "set_buah2.add('Melon')\n",
    "set_buah3.add('Kiwi')\n",
    "print(set_buah1)\n",
    "print(set_buah2)\n",
    "# Fitur .update()\n",
    "print(\">>> Fitur .update()\")\n",
    "parcel1 = {'Anggur','Apel','Jeruk'}\n",
    "parcel2 = {'Apel','Kiwi','Melon'}\n",
    "parcel1.update(parcel2)\n",
    "print(parcel1)\n",
    "# Fitur .pop()\n",
    "print(\">>> Fitur .pop()\")\n",
    "parcel = {'Anggur','Apel','Jeruk'}\n",
    "buah = parcel.pop()\n",
    "print(buah)\n",
    "print(parcel)\n",
    "# Fitur .remove()\n",
    "print(\">>> Fitur .remove()\")\n",
    "parcel = {'Anggur','Apel','Jeruk'}\n",
    "parcel.remove('Apel')\n",
    "print(parcel)"
   ]
  },
  {
   "source": [
    "# [Set Manipulation – Part 2](https://academy.dqlab.id/main/livecode/160/296/1324)"
   ],
   "cell_type": "markdown",
   "metadata": {}
  },
  {
   "cell_type": "code",
   "execution_count": 8,
   "metadata": {},
   "outputs": [
    {
     "output_type": "stream",
     "name": "stdout",
     "text": [
      ">>> Fitur .union()\n{'Anggur', 'Apel', 'Jeruk'}\n{'Apel', 'Jeruk', 'Anggur', 'Melon', 'Kiwi'}\n>>> Fitur .isdisjoint()\nTrue\nFalse\n>>> Fitur .issubset()\nTrue\nFalse\n>>> Fitur .issuperset()\nTrue\nFalse\n>>> Fitur .intersection()\n{'Apel', 'Jeruk'}\n>>> Fitur .difference()\n{'Anggur', 'Melon', 'Kiwi'}\n>>> Fitur .symmetric_difference()\n{'Melon', 'Leci', 'Anggur', 'Semangka'}\n"
     ]
    }
   ],
   "source": [
    "# Fitur .union()\n",
    "print(\">>> Fitur .union()\")\n",
    "parcel1 = {'Anggur','Apel','Jeruk'}\n",
    "parcel2 = {'Apel','Kiwi','Melon'}\n",
    "parcel3 = parcel1.union(parcel2)\n",
    "print(parcel1)\n",
    "print(parcel3)\n",
    "# Fitur .isdisjoint()\n",
    "print(\">>> Fitur .isdisjoint()\")\n",
    "parcel1 = {'Anggur','Apel','Jeruk'}\n",
    "parcel2 = {'Kiwi','Melon','Pisang'}\n",
    "parcel3 = {'Apel','Srikaya','Semangka'}\n",
    "parcel1_parcel2_disjoint = parcel1.isdisjoint(parcel2)\n",
    "print(parcel1_parcel2_disjoint)\n",
    "parcel1_parcel3_disjoint = parcel1.isdisjoint(parcel3)\n",
    "print(parcel1_parcel3_disjoint)\n",
    "# Fitur .issubset()\n",
    "print(\">>> Fitur .issubset()\")\n",
    "parcel_A = {'Anggur', 'Apel'}\n",
    "parcel_B = {'Durian','Semangka','Apel'}\n",
    "parcel_C = {'Anggur', 'Kiwi', 'Apel', 'Jeruk', 'Melon'}\n",
    "parcel_A_dalam_C = parcel_A.issubset(parcel_C)\n",
    "parcel_B_dalam_C = parcel_B.issubset(parcel_C)\n",
    "print(parcel_A_dalam_C)\n",
    "print(parcel_B_dalam_C)\n",
    "# Fitur .issuperset()\n",
    "print(\">>> Fitur .issuperset()\")\n",
    "parcel_C_mengandung_A = parcel_C.issuperset(parcel_A)\n",
    "parcel_C_mengandung_B = parcel_C.issuperset(parcel_B)\n",
    "print(parcel_C_mengandung_A)\n",
    "print(parcel_C_mengandung_B)\n",
    "# Fitur .intersection()\n",
    "print(\">>> Fitur .intersection()\")\n",
    "parcel_A = {'Anggur', 'Kiwi', 'Apel', 'Jeruk', 'Melon'}\n",
    "parcel_B = {'Apel', 'Jeruk', 'Semangka', 'Durian', 'Tomat'}\n",
    "parcel_C = parcel_A.intersection(parcel_B)\n",
    "print(parcel_C)\n",
    "# Fitur .difference()\n",
    "print(\">>> Fitur .difference()\")\n",
    "parcel_C = parcel_A.difference(parcel_B)\n",
    "print(parcel_C)\n",
    "# Fitur .symmetric_difference()\n",
    "print(\">>> Fitur .symmetric_difference()\")\n",
    "parcel_A = {'Anggur', 'Apel', 'Jeruk', 'Melon'}\n",
    "parcel_B = {'Apel','Jeruk','Semangka','Leci'}\n",
    "parcel_C = parcel_A.symmetric_difference(parcel_B)\n",
    "print(parcel_C)"
   ]
  },
  {
   "source": [
    "# [Dictionary Manipulation](https://academy.dqlab.id/main/livecode/160/296/1326)"
   ],
   "cell_type": "markdown",
   "metadata": {}
  },
  {
   "cell_type": "code",
   "execution_count": 9,
   "metadata": {},
   "outputs": [
    {
     "output_type": "stream",
     "name": "stdout",
     "text": [
      ">>> Fitur .clear()\n{}\n>>> Fitur .copy()\n{'nama': 'Aksara', 'nik': '1211011', 'pekerjaan': 'Data Analyst'}\n{'nama': 'Senja', 'nik': '1211056', 'pekerjaan': 'Data Analyst'}\n>>> Fitur .keys()\n['nama', 'nik', 'pekerjaan']\n>>> Fitur .values()\n['Aksara', '1211011', 'Data Analyst']\n>>> Fitur .update()\n{'nama': 'Aksara', 'nik': '1211011', 'pekerjaan': 'Data Analyst', 'skillset': ['Python', 'R']}\n"
     ]
    }
   ],
   "source": [
    "# Fitur .clear()\n",
    "print(\">>> Fitur .clear()\")\n",
    "info_karyawan = {'nama' : 'Aksara',\n",
    "                 'nik' : '1211011',\n",
    "                 'pekerjaan' : 'Data Analyst'}\n",
    "info_karyawan.clear()\n",
    "print(info_karyawan)\n",
    "# Fitur .copy()\n",
    "print(\">>> Fitur .copy()\")\n",
    "info_karyawan1 = {'nama' : 'Aksara',\n",
    "                  'nik' : '1211011',\n",
    "                  'pekerjaan' : 'Data Analyst'}\n",
    "info_karyawan2 = info_karyawan1.copy()\n",
    "info_karyawan2['nama'] = 'Senja'\n",
    "info_karyawan2['nik'] = '1211056'\n",
    "print(info_karyawan1)\n",
    "print(info_karyawan2)\n",
    "# Fitur .keys()\n",
    "print(\">>> Fitur .keys()\")\n",
    "info_karyawan = {'nama' : 'Aksara',\n",
    "                 'nik' : '1211011',\n",
    "                 'pekerjaan' : 'Data Analyst'}\n",
    "kunci_akses = list(info_karyawan.keys())\n",
    "print(kunci_akses)\n",
    "# Fitur .values()\n",
    "print(\">>> Fitur .values()\")\n",
    "value_dict = list(info_karyawan.values())\n",
    "print(value_dict)\n",
    "# Fitur .update()\n",
    "print(\">>> Fitur .update()\")\n",
    "info_karyawan.update({'skillset':['Python', 'R']})\n",
    "print(info_karyawan)"
   ]
  },
  {
   "source": [
    "# [Useful Tips and Tricks](https://academy.dqlab.id/main/livecode/160/296/1327)"
   ],
   "cell_type": "markdown",
   "metadata": {}
  },
  {
   "cell_type": "code",
   "execution_count": 10,
   "metadata": {},
   "outputs": [
    {
     "output_type": "stream",
     "name": "stdout",
     "text": [
      ">>> Tuple\n4\n>>> List\n4\n>>> Konversi tipe data\n{'Markisa', 'Apel', 'Jeruk'}\n['Apel', 'Jeruk', 'Markisa']\n"
     ]
    }
   ],
   "source": [
    "# Tuple\n",
    "print(\">>> Tuple\")\n",
    "tuple_menu = ('Gado-gado','Ayam Goreng','Rendang','Ketoprak')\n",
    "jumlah_menu = len(tuple_menu)\n",
    "print(jumlah_menu)\n",
    "# List\n",
    "print(\">>> List\")\n",
    "list_menu = ['Gado-gado','Ayam Goreng','Rendang','Ketoprak']\n",
    "jumlah_menu = len(list_menu)\n",
    "print(jumlah_menu)\n",
    "# Konversi tipe data\n",
    "print(\">>> Konversi tipe data\")\n",
    "list_buah = ['Apel', 'Apel', 'Jeruk', 'Markisa', 'Jeruk', 'Markisa', 'Apel']\n",
    "set_buah = set(list_buah)\n",
    "print(set_buah)\n",
    "list_buah = list(set_buah)\n",
    "list_buah.sort()\n",
    "print(list_buah)"
   ]
  },
  {
   "source": [
    "# [Tugas Praktek](https://academy.dqlab.id/main/livecode/160/296/1328)"
   ],
   "cell_type": "markdown",
   "metadata": {}
  },
  {
   "cell_type": "code",
   "execution_count": 11,
   "metadata": {},
   "outputs": [
    {
     "output_type": "stream",
     "name": "stdout",
     "text": [
      "2.8277777777777775\n7.8999999999999995\n"
     ]
    }
   ],
   "source": [
    "# Data keuangan\n",
    "keuangan = {\n",
    "'pengeluaran': [2, 2.5, 2.25, 2.5, 3.2, 2.5, 3.5, 4, 3],\n",
    "'pemasukan': [7.8, 7.5, 9, 7.6, 7.2, 7.5, 7, 10, 7.5]\n",
    "}\n",
    "# Perhitungan rata-rata pemasukan dan rata-rata pengeluaran\n",
    "total_pengeluaran = 0\n",
    "total_pemasukan = 0\n",
    "for biaya in keuangan['pengeluaran']: \n",
    "    total_pengeluaran += biaya\n",
    "for biaya in keuangan['pemasukan']: \n",
    "    total_pemasukan += biaya\n",
    "rata_rata_pengeluaran = total_pengeluaran / len(keuangan['pengeluaran'])\n",
    "rata_rata_pemasukan = total_pemasukan / len(keuangan['pemasukan'])\n",
    "print(rata_rata_pengeluaran) \n",
    "print(rata_rata_pemasukan)"
   ]
  },
  {
   "source": [
    "# [Apa itu String Manipulation?](https://academy.dqlab.id/main/livecode/160/297/1330)"
   ],
   "cell_type": "markdown",
   "metadata": {}
  },
  {
   "cell_type": "code",
   "execution_count": 12,
   "metadata": {},
   "outputs": [
    {
     "output_type": "stream",
     "name": "stdout",
     "text": [
      "Sepatu NiKo\nSepatu \nNiKo\n11\n"
     ]
    }
   ],
   "source": [
    "nama_produk = \"Sepatu Niko\"\n",
    "nama_produk = nama_produk[:2] + \"p\" + nama_produk[3:9] + \"K\" + nama_produk[-1]\n",
    "print(nama_produk)\n",
    "print(nama_produk[:7])\n",
    "print(nama_produk[7:])\n",
    "print(len(nama_produk))"
   ]
  },
  {
   "source": [
    "# [Operator “+” untuk Tipe Data String](https://academy.dqlab.id/main/livecode/160/297/1331)"
   ],
   "cell_type": "markdown",
   "metadata": {}
  },
  {
   "cell_type": "code",
   "execution_count": 13,
   "metadata": {},
   "outputs": [
    {
     "output_type": "stream",
     "name": "stdout",
     "text": [
      "John Doee\nHi, saya John Doee umur 27 tahun, tinggal di Jl. Anggrek No. 100.\n"
     ]
    }
   ],
   "source": [
    "nama_depan = 'John'\n",
    "nama_belakang = 'Doee'\n",
    "nama_lengkap = nama_depan + ' ' + nama_belakang\n",
    "print(nama_lengkap)\n",
    "umur = '27 tahun'\n",
    "alamat = 'Jl. Anggrek No. 100'\n",
    "nama_umur_alamat = 'Hi, saya ' + nama_lengkap + ' umur ' + umur + ', tinggal di ' + alamat + '.'\n",
    "print(nama_umur_alamat)"
   ]
  },
  {
   "source": [
    "# [Menghilangkan Spasi di Awal dan/atau di Akhir](https://academy.dqlab.id/main/livecode/160/297/1332)"
   ],
   "cell_type": "markdown",
   "metadata": {}
  },
  {
   "cell_type": "code",
   "execution_count": 14,
   "metadata": {},
   "outputs": [
    {
     "output_type": "stream",
     "name": "stdout",
     "text": [
      ">>> Fitur .strip()\nhalo, selamat siang!\n>>> Fitur .lstrip()\nhalo, selamat siang!   \n>>> Fitur .rstrip()\n halo, selamat siang!\n"
     ]
    }
   ],
   "source": [
    "# Fitur .strip()\n",
    "print(\">>> Fitur .strip()\")\n",
    "kata_sambutan = ' halo, selamat siang!   '\n",
    "kata_sambutan = kata_sambutan.strip()\n",
    "print(kata_sambutan)\n",
    "# Fitur .lstrip()\n",
    "print(\">>> Fitur .lstrip()\")\n",
    "kata_sambutan = ' halo, selamat siang!   '\n",
    "kata_sambutan = kata_sambutan.lstrip()\n",
    "print(kata_sambutan)\n",
    "# Fitur .rstrip()\n",
    "print(\">>> Fitur .rstrip()\")\n",
    "kata_sambutan = ' halo, selamat siang!   '\n",
    "kata_sambutan = kata_sambutan.rstrip()\n",
    "print(kata_sambutan)"
   ]
  },
  {
   "source": [
    "# [Merubah Caps pada String](https://academy.dqlab.id/main/livecode/160/297/1333)"
   ],
   "cell_type": "markdown",
   "metadata": {}
  },
  {
   "cell_type": "code",
   "execution_count": 15,
   "metadata": {},
   "outputs": [
    {
     "output_type": "stream",
     "name": "stdout",
     "text": [
      ">>> Fitur .capitalize()\nBelajar bahasa python\n>>> Fitur .lower()\nbelajar bahasa python.\n>>> Fitur .upper()\nBELAJAR BAHASA PYTHON.\n"
     ]
    }
   ],
   "source": [
    "# Fitur .capitalize()\n",
    "print(\">>> Fitur .capitalize()\")\n",
    "judul_buku = 'belajar bahasa Python'\n",
    "print(judul_buku.capitalize())\n",
    "# Fitur .lower()\n",
    "print(\">>> Fitur .lower()\")\n",
    "judul_buku = 'Belajar Bahasa PYTHON.'\n",
    "print(judul_buku.lower())\n",
    "# Fitur .upper()\n",
    "print(\">>> Fitur .upper()\")\n",
    "judul_buku = 'Belajar Bahasa PYTHON.'\n",
    "print(judul_buku.upper())"
   ]
  },
  {
   "source": [
    "# [Pemecahan, Penggabungan, dan Penggantian String](https://academy.dqlab.id/main/livecode/160/297/1334)"
   ],
   "cell_type": "markdown",
   "metadata": {}
  },
  {
   "cell_type": "code",
   "execution_count": 16,
   "metadata": {},
   "outputs": [
    {
     "output_type": "stream",
     "name": "stdout",
     "text": [
      ">>> Fitur .split()\n['ani ', ' budi ', ' wati ', ' johan']\n['ani', 'dan', 'budi', 'dan', 'wati', 'dan', 'johan']\n>>> Fitur .join()\nRicky dan Peter dan Jordan\n>>> Fitur .replace()\njeruk malang jeruk yang paling segar, jeruk sehat, jeruk nikmat\n"
     ]
    }
   ],
   "source": [
    "# Fitur .split()\n",
    "print(\">>> Fitur .split()\")\n",
    "bilangan = \"ani dan budi dan wati dan johan\"\n",
    "karakter = bilangan.split(\"dan\")\n",
    "print(karakter)\n",
    "kata = bilangan.split(\" \")\n",
    "print(kata)\n",
    "# Fitur .join()\n",
    "print(\">>> Fitur .join()\")\n",
    "pemisah = \" dan \"\n",
    "karakter = [\"Ricky\", \"Peter\", \"Jordan\"]\n",
    "kalimat = pemisah.join(karakter)\n",
    "print(kalimat)\n",
    "# Fitur .replace()\n",
    "print(\">>> Fitur .replace()\")\n",
    "kalimat = \"apel malang apel yang paling segar, apel sehat, apel nikmat\"\n",
    "kalimat = kalimat.replace(\"apel\", \"jeruk\")\n",
    "print(kalimat)"
   ]
  },
  {
   "source": [
    "# [Menentukan Posisi dan Jumlah Sub-string pada String](https://academy.dqlab.id/main/livecode/160/297/1335)"
   ],
   "cell_type": "markdown",
   "metadata": {}
  },
  {
   "cell_type": "code",
   "execution_count": 17,
   "metadata": {},
   "outputs": [
    {
     "output_type": "stream",
     "name": "stdout",
     "text": [
      ">>> Fitur .find()\n0\n5\n>>> Fitur .count()\n3\n"
     ]
    }
   ],
   "source": [
    "teks = \"Apel malang adalah apel termanis dibanding apel-apel lainnya\"\n",
    "# Fitur .find()\n",
    "print(\">>> Fitur .find()\")\n",
    "print(teks.find(\"Apel\"))\n",
    "print(teks.find(\"malang\"))\n",
    "# Fitur .count()\n",
    "print(\">>> Fitur .count()\")\n",
    "kemunculan_kata_apel = teks.count(\"apel\")\n",
    "print(kemunculan_kata_apel)"
   ]
  },
  {
   "source": [
    "# [Menentukan String Apakah Diawali/Diakhiri oleh Sub-string](https://academy.dqlab.id/main/livecode/160/297/1336)"
   ],
   "cell_type": "markdown",
   "metadata": {}
  },
  {
   "cell_type": "code",
   "execution_count": 18,
   "metadata": {},
   "outputs": [
    {
     "output_type": "stream",
     "name": "stdout",
     "text": [
      ">>> Fitur .startswith()\nTrue\nFalse\n>>> Fitur .endswith()\nTrue\nFalse\n"
     ]
    }
   ],
   "source": [
    "# Fitur .startswith()\n",
    "print(\">>> Fitur .startswith()\")\n",
    "teks = \"Apel malang adalah apel termanis dibanding apel-apel lainnya\"\n",
    "print(teks.startswith(\"Apel\"))\n",
    "print(teks.startswith(\"apel\"))\n",
    "# Fitur .endswith()\n",
    "print(\">>> Fitur .endswith()\")\n",
    "print(teks.endswith(\"lainnya\"))\n",
    "print(teks.endswith(\"apel\"))"
   ]
  },
  {
   "source": [
    "# [Tugas Praktek](https://academy.dqlab.id/main/livecode/160/297/1337)"
   ],
   "cell_type": "markdown",
   "metadata": {}
  },
  {
   "cell_type": "code",
   "execution_count": 19,
   "metadata": {},
   "outputs": [
    {
     "output_type": "stream",
     "name": "stdout",
     "text": [
      "10\n11\n"
     ]
    }
   ],
   "source": [
    "judul_artikel = [\n",
    "\"Buah Salak Baik untuk Mata\", \"Buah Salak Kaya Potasium\", \n",
    "\"Buah Jeruk Kaya Vitamin C\", \"Buah Salak Kaya Manfaat\", \n",
    "\"Salak Baik untuk Jantung\", \"Jeruk dapat Memperkuat Tulang\", \n",
    "\"Jeruk Mencegah Penyakit Asma\", \"Jeruk Memperkuat Gigi\", \n",
    "\"Jeruk Mencegah Kolesterol Jahat\", \"Salak Mencegah Diabetes\", \n",
    "\"Salak Memperkuat Dinding Usus\", \"Salak Baik untuk Darah\",\n",
    "\"Jeruk Kaya Manfaat untuk Jantung\", \"Salak si Kecil yang Baik\", \n",
    "\"Jeruk dan Salak Buah Kaya Manfaat\", \"Buah Jeruk Enak\",\n",
    "\"Tips Panen Jeruk Ribuan Kilo\", \"Tips Bertanam Salak\", \n",
    "\"Salak Manis untuk Berbuka\", \"Jeruk Baik untuk Wajah\"\n",
    "]\n",
    "jumlah_artikel_jeruk = 0\n",
    "jumlah_artikel_salak = 0\n",
    "for judul in judul_artikel:\n",
    "    if judul.count(\"Jeruk\") > 0: \n",
    "        jumlah_artikel_jeruk += 1\n",
    "    if judul.count(\"Salak\") > 0:\n",
    "        jumlah_artikel_salak += 1\n",
    "print(jumlah_artikel_jeruk) \n",
    "print(jumlah_artikel_salak)"
   ]
  },
  {
   "source": [
    "# [Tugas Praktek](https://academy.dqlab.id/main/livecode/160/297/1338)"
   ],
   "cell_type": "markdown",
   "metadata": {}
  },
  {
   "cell_type": "code",
   "execution_count": 20,
   "metadata": {},
   "outputs": [
    {
     "output_type": "stream",
     "name": "stdout",
     "text": [
      "8\n9\n"
     ]
    }
   ],
   "source": [
    "judul_artikel = [\n",
    "\"Buah Salak Baik untuk Mata\", \"Buah Salak Kaya Potasium\", \n",
    "\"Buah Jeruk Kaya Vitamin C\", \"Buah Salak Kaya Manfaat\", \n",
    "\"Salak Baik untuk Jantung\", \"Jeruk dapat Memperkuat Tulang\", \n",
    "\"Jeruk Mencegah Penyakit Asma\", \"Jeruk Memperkuat Gigi\", \n",
    "\"Jeruk Mencegah Kolesterol Jahat\", \"Salak Mencegah Diabetes\", \n",
    "\"Salak Memperkuat Dinding Usus\", \"Salak Baik untuk Darah\",\n",
    "\"Jeruk Kaya Manfaat untuk Jantung\", \"Salak si Kecil yang Baik\", \n",
    "\"Jeruk dan Salak Buah Kaya Manfaat\", \"Buah Jeruk Enak\",\n",
    "\"Tips Panen Jeruk Ribuan Kilo\", \"Tips Bertanam Salak\", \n",
    "\"Salak Manis untuk Berbuka\", \"Jeruk Baik untuk Wajah\"\n",
    "]\n",
    "kata_positif = [\"Kaya\", \"Baik\", \"Mencegah\", \"Memperkuat\"]\n",
    "kata_positif_jeruk = 0\n",
    "kata_positif_salak = 0\n",
    "for judul in judul_artikel: \n",
    "    for kata in kata_positif:\n",
    "        if judul.count(\"Jeruk\") > 0 and judul.count(kata) > 0: \n",
    "            kata_positif_jeruk += 1\n",
    "        if judul.count(\"Salak\") > 0 and judul.count(kata) > 0:\n",
    "            kata_positif_salak += 1\n",
    "print(kata_positif_jeruk) \n",
    "print(kata_positif_salak)"
   ]
  },
  {
   "source": [
    "# [Fungsi Pertama](https://academy.dqlab.id/main/livecode/160/298/1340)"
   ],
   "cell_type": "markdown",
   "metadata": {}
  },
  {
   "cell_type": "code",
   "execution_count": 21,
   "metadata": {},
   "outputs": [
    {
     "output_type": "stream",
     "name": "stdout",
     "text": [
      "Halo Dunia\nAku sedang belajar bahasa Python\n"
     ]
    }
   ],
   "source": [
    "# Definisikan fungsi\n",
    "def contoh_fungsi():\n",
    "    print(\"Halo Dunia\")\n",
    "    print(\"Aku sedang belajar bahasa Python\")\n",
    "# Panggil fungsi yang telah didefinisikan\n",
    "contoh_fungsi()"
   ]
  },
  {
   "source": [
    "# [Fungsi Kedua](https://academy.dqlab.id/main/livecode/160/298/1341)"
   ],
   "cell_type": "markdown",
   "metadata": {}
  },
  {
   "cell_type": "code",
   "execution_count": 22,
   "metadata": {},
   "outputs": [
    {
     "output_type": "stream",
     "name": "stdout",
     "text": [
      "John Doe\n"
     ]
    }
   ],
   "source": [
    "# Definsikan fungsi \n",
    "def fungsi_dengan_argumen(nama_depan, nama_belakang):\n",
    "    print(nama_depan+\" \"+nama_belakang)\n",
    "# Panggil fungsi dengan memasukkan argumen\n",
    "# nama_depan yaitu \"John\" dan nama_belakang \"Doe\"\n",
    "fungsi_dengan_argumen(\"John\", \"Doe\")"
   ]
  },
  {
   "source": [
    "# [Fungsi Ketiga](https://academy.dqlab.id/main/livecode/160/298/1342)"
   ],
   "cell_type": "markdown",
   "metadata": {}
  },
  {
   "cell_type": "code",
   "execution_count": 23,
   "metadata": {},
   "outputs": [
    {
     "output_type": "stream",
     "name": "stdout",
     "text": [
      "John \nJohn Doe\n"
     ]
    }
   ],
   "source": [
    "# Definsikan fungsi dengan nilai default argument kedua adalah \"\".\n",
    "def fungsi_dengan_argumen(nama_depan, nama_belakang = \"\"):\n",
    "\tprint(nama_depan+\" \"+nama_belakang)\n",
    "# Panggil fungsi dengan memasukkan argumen nama_depan \"John\"\n",
    "fungsi_dengan_argumen(\"John\")\n",
    "# Panggil fungsi dengan memasukkan argumen\n",
    "# nama_depan yaitu \"John\" dan nama_belakang \"Doe\"\n",
    "fungsi_dengan_argumen(\"John\", \"Doe\")"
   ]
  },
  {
   "source": [
    "# [Tugas Praktek](https://academy.dqlab.id/main/livecode/160/298/1343)"
   ],
   "cell_type": "markdown",
   "metadata": {}
  },
  {
   "cell_type": "code",
   "execution_count": 24,
   "metadata": {},
   "outputs": [
    {
     "output_type": "stream",
     "name": "stdout",
     "text": [
      "Rata-rata data1:\n105.0\nRata-rata data2:\n73.0\n"
     ]
    }
   ],
   "source": [
    "# Dua buah data yang tersimpan dalam tipe list\n",
    "data1 = [70, 70, 70, 100, 100, 100, 120, 120, 150, 150]\n",
    "data2 = [50, 60, 60, 50, 70, 70, 100, 80, 100, 90]\n",
    "# Definisikan fungsi hitng_rata_rata\n",
    "def hitung_rata_rata(data):\n",
    "    jumlah = 0\n",
    "    for item in data:\n",
    "        jumlah += item\n",
    "    rata_rata = jumlah/len(data)\n",
    "    return rata_rata\n",
    "# Hitung nilai rata-rata dari kedua data yang dimiliki\n",
    "print('Rata-rata data1:')\n",
    "print(hitung_rata_rata(data1))\n",
    "print('Rata-rata data2:')\n",
    "print(hitung_rata_rata(data2))"
   ]
  },
  {
   "source": [
    "# [Tugas Praktek](https://academy.dqlab.id/main/livecode/160/298/1344)"
   ],
   "cell_type": "markdown",
   "metadata": {}
  },
  {
   "cell_type": "code",
   "execution_count": 25,
   "metadata": {},
   "outputs": [
    {
     "output_type": "stream",
     "name": "stdout",
     "text": [
      "Standar deviasi data1:\n28.722813232690143\nStandar deviasi data2:\n17.916472867168917\n"
     ]
    }
   ],
   "source": [
    "# Dua buah data yang tersimpan dalam tipe list\n",
    "data1 = [70, 70, 70, 100, 100, 100, 120, 120, 150, 150]\n",
    "data2 = [50, 60, 60, 50, 70, 70, 100, 80, 100, 90]\n",
    "# Fungsi rata-rata data\n",
    "def hitung_rata_rata(data):\n",
    "    jumlah = 0\n",
    "    for item in data:\n",
    "        jumlah += item\n",
    "    rata_rata = jumlah/len(data)\n",
    "    return rata_rata\n",
    "# Definisikan fungsi hitung_standar_deviasi\n",
    "def hitung_standar_deviasi(data):\n",
    "    rata_rata_data = hitung_rata_rata(data)\n",
    "    varians = 0\n",
    "    for item in data:\n",
    "        varians += (item - rata_rata_data) ** 2\n",
    "    varians /= len(data)\n",
    "    standar_deviasi = varians ** (1/2)\n",
    "    return standar_deviasi\n",
    "# Hitung nilai standar deviasi dari kedua data yang dimiliki\n",
    "print('Standar deviasi data1:')\n",
    "print(hitung_standar_deviasi(data1))\n",
    "print('Standar deviasi data2:')\n",
    "print(hitung_standar_deviasi(data2))"
   ]
  },
  {
   "source": [
    "# [Tugas Praktek](https://academy.dqlab.id/main/livecode/160/298/1345)"
   ],
   "cell_type": "markdown",
   "metadata": {}
  },
  {
   "cell_type": "code",
   "execution_count": 26,
   "metadata": {},
   "outputs": [
    {
     "output_type": "stream",
     "name": "stdout",
     "text": [
      "Rata-rata luas_tanah:\n105.0\nStandar deviasi luas_tanah:\n14.93311056335886\n\nRata-rata luas_bangunan:\n73.0\nStandar deviasi luas_bangunan:\n6.025948374480153\n\nRata-rata jarak:\n34.0\nStandar deviasi jarak:\n6.24005184770928\n\nRata-rata harga:\n1155.0\nStandar deviasi harga:\n587.0594351517378\n\n"
     ]
    }
   ],
   "source": [
    "# Data properti\n",
    "tabel_properti = {\n",
    "'luas_tanah': [70, 70, 70, 100, 100, 100, 120, 120, 150, 150],\n",
    "'luas_bangunan': [50, 60, 60, 50, 70, 70, 100, 80, 100, 90],\n",
    "'jarak': [15, 30, 55, 30, 25, 50, 20, 50, 50, 15],\n",
    "'harga': [500, 400, 300, 700, 1000, 650, 2000, 1200, 1800, 3000]\n",
    "}\n",
    "# Fungsi rata-rata data\n",
    "def hitung_rata_rata(data):\n",
    "    jumlah = 0\n",
    "    for item in data:\n",
    "        jumlah += item\n",
    "    rata_rata = jumlah/len(data)\n",
    "    return rata_rata\n",
    "# Fungsi hitung_standar_deviasi\n",
    "def hitung_standar_deviasi(data):\n",
    "    rata_rata_data = hitung_rata_rata(data)\n",
    "    varians = 0\n",
    "    for item in data:\n",
    "        varians += (item - rata_rata_data) ** 2\n",
    "        varians /= len(data)\n",
    "    standar_deviasi = varians ** (1/2)\n",
    "    return standar_deviasi\n",
    "# Definisikan fungsi untuk menghitung rata-rata dan standar deviasi\n",
    "# setiap kolom pada tabel_properti yang diberikan oleh key dict.\n",
    "def deskripsi_properti(tabel):\n",
    "    for key in tabel.keys():\n",
    "        print('Rata-rata ' + key + ':')\n",
    "        print(hitung_rata_rata(tabel[key])) \n",
    "        print('Standar deviasi ' + key + ':')\n",
    "        print(hitung_standar_deviasi(tabel[key]))\n",
    "        print('')\n",
    "# Panggil fungsi deskripsi_properti untuk menghitung rata-rata \n",
    "# dan standar deviasi setiap kolom pada tabel_properti\n",
    "deskripsi_properti(tabel_properti)"
   ]
  },
  {
   "source": [
    "# [Membaca Berkas Teks – Part 1](https://academy.dqlab.id/main/livecode/160/299/1381)"
   ],
   "cell_type": "markdown",
   "metadata": {}
  },
  {
   "cell_type": "code",
   "execution_count": null,
   "metadata": {},
   "outputs": [],
   "source": [
    "# Membaca file hello.txt dengan fungsi read()\n",
    "print(\">>> Membaca file hello.txt dengan fungsi read()\")\n",
    "file = open(\"hello.txt\", \"r\")\n",
    "content = file.read()\n",
    "file.close()\n",
    "print(content)\n",
    "# Membaca file hello.txt dengan fungsi readline()\n",
    "print(\">>> Membaca file hello.txt dengan fungsi readline()\")\n",
    "file = open(\"hello.txt\", \"r\")\n",
    "first_line = file.readline()\n",
    "second_line = file.readline()\n",
    "file.close()\n",
    "print(first_line)\n",
    "print(second_line)"
   ]
  },
  {
   "source": [
    "# [Membaca Berkas Teks – Part 2](https://academy.dqlab.id/main/livecode/160/299/1382)"
   ],
   "cell_type": "markdown",
   "metadata": {}
  },
  {
   "cell_type": "code",
   "execution_count": null,
   "metadata": {},
   "outputs": [],
   "source": [
    "# Membaca file hello.txt dengan fungsi readlines()\n",
    "print(\">>> Membaca file hello.txt dengan fungsi readlines()\")\n",
    "file = open(\"hello.txt\", \"r\")\n",
    "all_lines = file.readlines()\n",
    "file.close()\n",
    "print(all_lines)\n",
    "\n",
    "# Membaca file hello.txt dengan menerapkan looping\n",
    "print(\">>> Membaca file hello.txt dengan menerapkan looping\")\n",
    "file = open(\"hello.txt\", \"r\")\n",
    "for line in file:\n",
    "    print(line)"
   ]
  },
  {
   "source": [
    "# [Menulis Berkas Teks – Part 1](https://academy.dqlab.id/main/livecode/160/299/1383)"
   ],
   "cell_type": "markdown",
   "metadata": {}
  },
  {
   "cell_type": "code",
   "execution_count": null,
   "metadata": {},
   "outputs": [],
   "source": [
    "# Menulis ke file hello_write.txt\n",
    "file = open(\"hello.txt\", \"w\")\n",
    "file.write(\"Sekarang kita belajar menulis dengan menggunakan Python\")\n",
    "file.write(\"Menulis konten file dengan mode w (write).\")\n",
    "file.close()"
   ]
  },
  {
   "source": [
    "# [Menulis Berkas Teks – Part 2](https://academy.dqlab.id/main/livecode/160/299/1384)"
   ],
   "cell_type": "markdown",
   "metadata": {}
  },
  {
   "cell_type": "code",
   "execution_count": null,
   "metadata": {},
   "outputs": [],
   "source": [
    "# Menulis ke file dengan mode append\n",
    "file = open(\"hello.txt\", \"a\")\n",
    "file.writelines([\n",
    "\"Sekarang kita belajar menulis dengan menggunakan Python\", \n",
    "\"Menulis konten file dengan mode a (append).\"\n",
    "])\n",
    "file.close()"
   ]
  },
  {
   "source": [
    "# [Fungsi dalam Library Matematika – Part 1](https://academy.dqlab.id/main/livecode/160/299/1388)"
   ],
   "cell_type": "markdown",
   "metadata": {}
  },
  {
   "cell_type": "code",
   "execution_count": 28,
   "metadata": {},
   "outputs": [
    {
     "output_type": "stream",
     "name": "stdout",
     "text": [
      ">>> Fungsi math.ceil()\n11\n14\n>>> Fungsi math.floor()\n10\n13\n>>> Fungsi math.fabs()\n10.32\n13.87\n>>> Fungsi math.factorial()\n120\n>>> Fungsi math.fsum()\n6.0\n"
     ]
    }
   ],
   "source": [
    "# Import library math\n",
    "import math\n",
    "# Fungsi math.ceil()\n",
    "print(\">>> Fungsi math.ceil()\")\n",
    "x = 10.32\n",
    "y = 13.87\n",
    "x_ceil = math.ceil(x)\n",
    "y_ceil = math.ceil(y)\n",
    "print(x_ceil)\n",
    "print(y_ceil)\n",
    "# Fungsi math.floor()\n",
    "print(\">>> Fungsi math.floor()\")\n",
    "x_floor = math.floor(x)\n",
    "y_floor = math.floor(y)\n",
    "print(x_floor)\n",
    "print(y_floor)\n",
    "# Fungsi math.fabs()\n",
    "print(\">>> Fungsi math.fabs()\")\n",
    "x = 10.32\n",
    "y = -13.87\n",
    "x = math.fabs(x)\n",
    "y = math.fabs(y)\n",
    "print(x)\n",
    "print(y)\n",
    "# Fungsi math.factorial()\n",
    "print(\">>> Fungsi math.factorial()\")\n",
    "x_factorial = math.factorial(5)\n",
    "print(x_factorial)\n",
    "# Fungsi math.fsum()\n",
    "print(\">>> Fungsi math.fsum()\")\n",
    "x = [1, 2, 3, 4, 5, 6, -6, -5, -4]\n",
    "total = math.fsum(x)\n",
    "print(total)"
   ]
  },
  {
   "source": [
    "# [Fungsi dalam Library Matematika – Part 2](https://academy.dqlab.id/main/livecode/160/299/1389)"
   ],
   "cell_type": "markdown",
   "metadata": {}
  },
  {
   "cell_type": "code",
   "execution_count": 29,
   "metadata": {},
   "outputs": [
    {
     "output_type": "stream",
     "name": "stdout",
     "text": [
      "0\n"
     ]
    }
   ],
   "source": [
    "import math\n",
    "x = [2.22,-3.33,4.44,-5.55]\n",
    "total = 0\n",
    "for i in x:\n",
    "    total += math.ceil(i)\n",
    "print(total)"
   ]
  },
  {
   "source": [
    "# [Harga Rumah di Tangerang](https://academy.dqlab.id/main/livecode/160/303/1392)"
   ],
   "cell_type": "markdown",
   "metadata": {}
  },
  {
   "cell_type": "code",
   "execution_count": null,
   "metadata": {},
   "outputs": [],
   "source": [
    "# STEP 1: \n",
    "# Baca file \"harga_rumah.txt\"\n",
    "file_harga_rumah = open(\"harga_rumah.txt\", \"r\")\n",
    "data_harga_rumah = file_harga_rumah.readlines()\n",
    "file_harga_rumah.close()\n",
    "# Buat list of dict dengan nama harga rumah\n",
    "key_harga_rumah = data_harga_rumah[0].replace(\"\\n\",\"\").split(\",\")\n",
    "harga_rumah = []\n",
    "for baris in data_harga_rumah[1:]:\n",
    "\tbaris_harga_rumah = baris.replace(\"\\n\",\"\").split(\",\")\n",
    "\tdict_harga_rumah = dict()\n",
    "\tfor i in range(len(baris_harga_rumah)):\n",
    "\t\tdict_harga_rumah[key_harga_rumah[i]] = baris_harga_rumah[i]\n",
    "\tharga_rumah.append(dict_harga_rumah)\n",
    "print(harga_rumah)\n",
    "# STEP 2:\n",
    "# Buat fungsi  get_all_specified_attribute yang menerima parameter list_of_dictionary \n",
    "# (tipe data list yang berisikan sekumpulan tipe data dictionary) dan specified_key \n",
    "# (tipe data string). Fungsi akan mengembalikan sebuah list yang berisikan seluruh \n",
    "# atribut dengan kunci (key) specified_key. \n",
    "def get_all_specified_attributes(list_of_dictionary, specified_key):\n",
    "\tlist_attributes = []\n",
    "\tfor data in list_of_dictionary:\n",
    "\t\tattribute = data[specified_key]\n",
    "\t\tlist_attributes.append(attribute)\n",
    "\treturn list_attributes\n",
    "# STEP 3: \n",
    "# Buat fungsi fungsi min_value yang menerima parameter list_attributes (berupa \n",
    "# tipe data list) dan mengembalikan nilai terkecil dalam list_attributes \n",
    "def min_value(list_attributes):\n",
    "\tmin_attribute = 9999\n",
    "\tfor attr in list_attributes:\n",
    "\t\tif int(attr) < min_attribute:\n",
    "\t\t\tmin_attribute = int(attr)\n",
    "\treturn min_attribute\n",
    "# Buat fungsi dan max_value yang menerima parameter list_attribute dan \n",
    "# mengembalikan nilai terbesar dalam list_attributes.\t\n",
    "def max_value(list_attributes):\n",
    "\tmax_attribute = -9999\n",
    "\tfor attr in list_attributes:\n",
    "\t\tif int(attr) > max_attribute:\n",
    "\t\t\tmax_attribute = int(attr)\n",
    "\treturn max_attribute\n",
    "# STEP 4: \n",
    "# Buat fungsi transform_attribute yang menerima parameter attr (sebuah \n",
    "# bilangan), max_attr (sebuah bilangan) dan min_attr (sebuah bilangan) \n",
    "# yang mengembalikan nilai transformasi dari sebuah attribute.\n",
    "def transform_attribute(attr, max_attr, min_attr):\n",
    "\tnilai_transformasi = (attr - min_attr) / (max_attr - min_attr)\n",
    "\treturn nilai_transformasi\n",
    "# STEP 5:\n",
    "# Buat fungsi data_transformation yang menerima parameter list_of_dictionary \n",
    "# (sebuah list yang berisikan tipe data dictionary) dan list_attribute_names \n",
    "# (sebuah list yang berisikan tipe data string) mengembalikan hasil \n",
    "# transformasi data dari list_of_dictionary berdasarkan list_attribute_names \n",
    "# dan attr_info telah dispesifikasikan.\n",
    "def data_transformation(list_of_dictionary, list_attribute_names):\n",
    "\tattr_info = {}\n",
    "\tfor attr_name in list_attribute_names:\n",
    "\t\tspecified_attributes = get_all_specified_attributes(list_of_dictionary, attr_name)\n",
    "\t\tmax_attr = max_value(specified_attributes)\n",
    "\t\tmin_attr = min_value(specified_attributes)\n",
    "\t\tattr_info[attr_name] = {'max': max_attr, 'min': min_attr}\n",
    "\t\tdata_idx = 0\n",
    "\t\twhile(data_idx < len(list_of_dictionary)):\n",
    "\t\t\tlist_of_dictionary[data_idx][attr_name] = transform_attribute(int(list_of_dictionary[data_idx][attr_name]), max_attr, min_attr)\n",
    "\t\t\tdata_idx += 1\n",
    "\treturn list_of_dictionary, attr_info\n",
    "# STEP 6:\n",
    "# Berdasarkan data baru dan attr_info ini, buat fungsi transform_data yang\n",
    "# menerima parameter data dan attr_info dan mengembalikan nilai atribut \n",
    "# dari data baru yang telah ditransformasikan.\n",
    "def transform_data(data, attr_info):\n",
    "\tfor key_name in data.keys():\n",
    "\t\tdata[key_name] = (data[key_name] - attr_info[key_name]['min']) / (\n",
    "\t\t                  attr_info[key_name]['max'] - attr_info[key_name]['min'])\n",
    "\treturn data\n",
    "# STEP 7:\n",
    "# Buat fungsi yang digunakan untuk sistem prediksi harga berdasarkan \n",
    "# nilai kemiripan atribut, yaitu argument input data dan list_of_data!\n",
    "def abs_value(value):\n",
    "\tif value < 0:\n",
    "\t\treturn -value\n",
    "\telse:\n",
    "\t\treturn value\n",
    "def price_based_on_similarity(data, list_of_data):\n",
    "\tprediksi_harga = 0\n",
    "\tperbedaan_terkecil = 999\n",
    "\tfor data_point in list_of_data:\n",
    "\t\tperbedaan= abs_value(data['tanah'] - data_point['tanah'])\n",
    "\t\tperbedaan+= abs_value(data['bangunan'] - data_point['bangunan'])\n",
    "\t\tperbedaan+= abs_value(data['jarak_ke_pusat'] - data_point['jarak_ke_pusat'])\n",
    "\t\tif perbedaan < perbedaan_terkecil:\n",
    "\t\t\tprediksi_harga = data_point['harga']\n",
    "\t\t\tperbedaan_terkecil = perbedaan\n",
    "\treturn prediksi_harga\n",
    "# STEP 8:\n",
    "# Hitung harga rumah yang telah ditransformasikan ke dalam variabel \n",
    "# harga_rumah berikut dengan atributnya attr_info\n",
    "harga_rumah, attr_info = data_transformation(harga_rumah,\n",
    "\t\t\t\t\t\t\t\t\t\t\t ['tanah','bangunan','jarak_ke_pusat'])\n",
    "# Gunakan variabel data untuk memprediksi harga rumah\n",
    "data = {'tanah': 110, 'bangunan': 80, 'jarak_ke_pusat': 35}\n",
    "# Transformasikan data tersebut dengan dengan menggunakan attr_info yang telah \n",
    "# diperoleh yang kembali disimpan ke variabel data.\n",
    "data = transform_data(data, attr_info)\n",
    "# Hitunglah prediksi harga dari variabel data tersebut.\n",
    "harga = price_based_on_similarity(data, harga_rumah)\n",
    "print(\"Prediksi harga rumah: \", harga)"
   ]
  }
 ]
}
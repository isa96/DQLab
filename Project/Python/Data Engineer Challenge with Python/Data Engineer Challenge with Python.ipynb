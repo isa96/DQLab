{
 "metadata": {
  "language_info": {
   "codemirror_mode": {
    "name": "ipython",
    "version": 3
   },
   "file_extension": ".py",
   "mimetype": "text/x-python",
   "name": "python",
   "nbconvert_exporter": "python",
   "pygments_lexer": "ipython3",
   "version": "3.7.9-final"
  },
  "orig_nbformat": 2,
  "kernelspec": {
   "name": "python3",
   "display_name": "Python 3",
   "language": "python"
  }
 },
 "nbformat": 4,
 "nbformat_minor": 2,
 "cells": [
  {
   "source": [
    "# [Web Scraping](https://academy.dqlab.id/main/projectcode/170/333/1597)"
   ],
   "cell_type": "markdown",
   "metadata": {}
  },
  {
   "cell_type": "code",
   "execution_count": 6,
   "metadata": {},
   "outputs": [],
   "source": [
    "#import library yang dibutuhkan\n",
    "import pandas as pd\n",
    "import requests\n",
    "from bs4 import BeautifulSoup\n",
    "\n",
    "#buatlah request ke website\n",
    "website_url = requests.get('https://id.wikipedia.org/wiki/Demografi_Indonesia').text\n",
    "soup = BeautifulSoup(website_url, 'lxml')\n",
    "\n",
    "#ambil table dengan class 'wikitable sortable'\n",
    "my_table = soup.find('table', {'class':'wikitable sortable'})\n",
    "\n",
    "#cari data dengan tag 'td'\n",
    "links = my_table.findAll('td')\n",
    "\n",
    "#buatlah lists kosong\n",
    "kode_bps = []\n",
    "nama = []\n",
    "ibu_kota = []\n",
    "populasi = []\n",
    "luas_km = []\n",
    "pulau = []\n",
    "\n",
    "#memasukkan data ke dalam list berdasarkan pola HTML\n",
    "for i, link in enumerate(links):\n",
    "  if i in range(0, len(links), 9):\n",
    "  \tkode_bps.append(link.get_text())\n",
    "  if i in range(2, len(links), 9):\n",
    "  \tnama.append(link.get_text())\n",
    "  if i in range(4, len(links), 9):\n",
    "  \tibu_kota.append(link.get_text())\n",
    "  if i in range(5, len(links), 9):\n",
    "  \tpopulasi.append(link.get_text())\n",
    "  if i in range(6, len(links), 9):\n",
    "  \tluas_km.append(link.get_text())\n",
    "  if i in range(8, len(links), 9):\n",
    "  \tpulau.append(link.get_text()[:-1])\n",
    "#buatlah DatFrame dan masukkan ke CSV\n",
    "df = pd.DataFrame()\n",
    "df['Kode BPS'] = kode_bps\n",
    "df['Nama'] = nama\n",
    "df['Ibu Kota'] = ibu_kota\n",
    "df['Populasi'] = populasi\n",
    "df['Luas km'] = luas_km\n",
    "df['Pulau'] = pulau\n",
    "df.to_csv('Indonesia_Demography_by_Province.csv', index=False, encoding='utf-8', quoting=1)"
   ]
  },
  {
   "cell_type": "code",
   "execution_count": 9,
   "metadata": {},
   "outputs": [
    {
     "output_type": "execute_result",
     "data": {
      "text/plain": [
       "  Kode BPS           Nama    Ibu Kota    Populasi    Luas km    Pulau\n",
       "0       11           Aceh  Banda Aceh   4.494.410  56.500,51  Sumatra\n",
       "1       12  Sumatra Utara       Medan  12.982.204  72.427,81  Sumatra\n",
       "2       13  Sumatra Barat      Padang   4.846.909  42.224,65  Sumatra\n",
       "3       14           Riau   Pekanbaru   5.538.367  87.844,23  Sumatra\n",
       "4       15          Jambi       Jambi   3.092.265  45.348,49  Sumatra"
      ],
      "text/html": "<div>\n<style scoped>\n    .dataframe tbody tr th:only-of-type {\n        vertical-align: middle;\n    }\n\n    .dataframe tbody tr th {\n        vertical-align: top;\n    }\n\n    .dataframe thead th {\n        text-align: right;\n    }\n</style>\n<table border=\"1\" class=\"dataframe\">\n  <thead>\n    <tr style=\"text-align: right;\">\n      <th></th>\n      <th>Kode BPS</th>\n      <th>Nama</th>\n      <th>Ibu Kota</th>\n      <th>Populasi</th>\n      <th>Luas km</th>\n      <th>Pulau</th>\n    </tr>\n  </thead>\n  <tbody>\n    <tr>\n      <th>0</th>\n      <td>11</td>\n      <td>Aceh</td>\n      <td>Banda Aceh</td>\n      <td>4.494.410</td>\n      <td>56.500,51</td>\n      <td>Sumatra</td>\n    </tr>\n    <tr>\n      <th>1</th>\n      <td>12</td>\n      <td>Sumatra Utara</td>\n      <td>Medan</td>\n      <td>12.982.204</td>\n      <td>72.427,81</td>\n      <td>Sumatra</td>\n    </tr>\n    <tr>\n      <th>2</th>\n      <td>13</td>\n      <td>Sumatra Barat</td>\n      <td>Padang</td>\n      <td>4.846.909</td>\n      <td>42.224,65</td>\n      <td>Sumatra</td>\n    </tr>\n    <tr>\n      <th>3</th>\n      <td>14</td>\n      <td>Riau</td>\n      <td>Pekanbaru</td>\n      <td>5.538.367</td>\n      <td>87.844,23</td>\n      <td>Sumatra</td>\n    </tr>\n    <tr>\n      <th>4</th>\n      <td>15</td>\n      <td>Jambi</td>\n      <td>Jambi</td>\n      <td>3.092.265</td>\n      <td>45.348,49</td>\n      <td>Sumatra</td>\n    </tr>\n  </tbody>\n</table>\n</div>"
     },
     "metadata": {},
     "execution_count": 9
    }
   ],
   "source": [
    "df.head()"
   ]
  },
  {
   "source": [
    "# [Function and Regular Expression](https://academy.dqlab.id/main/projectcode/170/333/1598)"
   ],
   "cell_type": "markdown",
   "metadata": {}
  },
  {
   "cell_type": "code",
   "execution_count": 10,
   "metadata": {},
   "outputs": [
    {
     "output_type": "stream",
     "name": "stdout",
     "text": [
      "Not Pass\nPass\nPass\nPass\nNot Pass\nNot Pass\nPass\nNot Pass\nNot Pass\n"
     ]
    }
   ],
   "source": [
    "#import library yang dibutuhkan\n",
    "import re\n",
    "\n",
    "#function email_check\n",
    "def email_check(input):\n",
    "    match = re.search('(?=^((?!-).)*$)(?=[^0-9])((?=^((?!\\.\\d).)*$)|(?=.*_))',input)\n",
    "    if match:\n",
    "  \t    print('Pass')\n",
    "    else:\n",
    "  \t    print('Not Pass')\n",
    "\n",
    "#Masukkan daftar email ke dalam list\n",
    "emails = ['my-name@someemail.com', 'myname@someemail.com','my.name@someemail.com',\n",
    "'my.name2019@someemail.com', 'my.name.2019@someemail.com',\n",
    "'somename.201903@someemail.com','my_name.201903@someemail.com',\n",
    "'201903myname@someemail.com', '201903.myname@someemail.com']\n",
    "\n",
    "#Looping untuk pengecekan Pass atau Not Pass\n",
    "for email in emails :\n",
    "\temail_check(email)"
   ]
  }
 ]
}
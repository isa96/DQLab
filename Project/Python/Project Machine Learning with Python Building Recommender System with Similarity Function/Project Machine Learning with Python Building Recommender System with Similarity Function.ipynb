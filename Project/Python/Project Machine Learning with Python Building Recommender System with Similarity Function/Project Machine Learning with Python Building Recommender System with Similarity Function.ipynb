{
 "metadata": {
  "language_info": {
   "codemirror_mode": {
    "name": "ipython",
    "version": 3
   },
   "file_extension": ".py",
   "mimetype": "text/x-python",
   "name": "python",
   "nbconvert_exporter": "python",
   "pygments_lexer": "ipython3",
   "version": "3.7.9-final"
  },
  "orig_nbformat": 2,
  "kernelspec": {
   "name": "python3",
   "display_name": "Python 3",
   "language": "python"
  }
 },
 "nbformat": 4,
 "nbformat_minor": 2,
 "cells": [
  {
   "source": [
    "# [Import Basics Library and File Unloading](https://academy.dqlab.id/main/projectcode/214/392/1969)"
   ],
   "cell_type": "markdown",
   "metadata": {}
  },
  {
   "cell_type": "code",
   "execution_count": 2,
   "metadata": {},
   "outputs": [],
   "source": [
    "#import library yang dibutuhkan\n",
    "import pandas as pd\n",
    "import numpy as np\n",
    "\n",
    "#lakukan pembacaan dataset\n",
    "movie_rating_df = pd.read_csv('https://dqlab-dataset.s3-ap-southeast-1.amazonaws.com/movie_rating_df.csv') #untuk menyimpan movie_rating_df.csv"
   ]
  },
  {
   "cell_type": "code",
   "execution_count": 3,
   "metadata": {},
   "outputs": [
    {
     "output_type": "execute_result",
     "data": {
      "text/plain": [
       "      tconst titleType            primaryTitle           originalTitle  \\\n",
       "0  tt0000001     short              Carmencita              Carmencita   \n",
       "1  tt0000002     short  Le clown et ses chiens  Le clown et ses chiens   \n",
       "2  tt0000003     short          Pauvre Pierrot          Pauvre Pierrot   \n",
       "3  tt0000004     short             Un bon bock             Un bon bock   \n",
       "4  tt0000005     short        Blacksmith Scene        Blacksmith Scene   \n",
       "\n",
       "   isAdult  startYear  endYear  runtimeMinutes                    genres  \\\n",
       "0        0     1894.0      NaN             1.0         Documentary,Short   \n",
       "1        0     1892.0      NaN             5.0           Animation,Short   \n",
       "2        0     1892.0      NaN             4.0  Animation,Comedy,Romance   \n",
       "3        0     1892.0      NaN            12.0           Animation,Short   \n",
       "4        0     1893.0      NaN             1.0              Comedy,Short   \n",
       "\n",
       "   averageRating  numVotes  \n",
       "0            5.6      1608  \n",
       "1            6.0       197  \n",
       "2            6.5      1285  \n",
       "3            6.1       121  \n",
       "4            6.1      2050  "
      ],
      "text/html": "<div>\n<style scoped>\n    .dataframe tbody tr th:only-of-type {\n        vertical-align: middle;\n    }\n\n    .dataframe tbody tr th {\n        vertical-align: top;\n    }\n\n    .dataframe thead th {\n        text-align: right;\n    }\n</style>\n<table border=\"1\" class=\"dataframe\">\n  <thead>\n    <tr style=\"text-align: right;\">\n      <th></th>\n      <th>tconst</th>\n      <th>titleType</th>\n      <th>primaryTitle</th>\n      <th>originalTitle</th>\n      <th>isAdult</th>\n      <th>startYear</th>\n      <th>endYear</th>\n      <th>runtimeMinutes</th>\n      <th>genres</th>\n      <th>averageRating</th>\n      <th>numVotes</th>\n    </tr>\n  </thead>\n  <tbody>\n    <tr>\n      <th>0</th>\n      <td>tt0000001</td>\n      <td>short</td>\n      <td>Carmencita</td>\n      <td>Carmencita</td>\n      <td>0</td>\n      <td>1894.0</td>\n      <td>NaN</td>\n      <td>1.0</td>\n      <td>Documentary,Short</td>\n      <td>5.6</td>\n      <td>1608</td>\n    </tr>\n    <tr>\n      <th>1</th>\n      <td>tt0000002</td>\n      <td>short</td>\n      <td>Le clown et ses chiens</td>\n      <td>Le clown et ses chiens</td>\n      <td>0</td>\n      <td>1892.0</td>\n      <td>NaN</td>\n      <td>5.0</td>\n      <td>Animation,Short</td>\n      <td>6.0</td>\n      <td>197</td>\n    </tr>\n    <tr>\n      <th>2</th>\n      <td>tt0000003</td>\n      <td>short</td>\n      <td>Pauvre Pierrot</td>\n      <td>Pauvre Pierrot</td>\n      <td>0</td>\n      <td>1892.0</td>\n      <td>NaN</td>\n      <td>4.0</td>\n      <td>Animation,Comedy,Romance</td>\n      <td>6.5</td>\n      <td>1285</td>\n    </tr>\n    <tr>\n      <th>3</th>\n      <td>tt0000004</td>\n      <td>short</td>\n      <td>Un bon bock</td>\n      <td>Un bon bock</td>\n      <td>0</td>\n      <td>1892.0</td>\n      <td>NaN</td>\n      <td>12.0</td>\n      <td>Animation,Short</td>\n      <td>6.1</td>\n      <td>121</td>\n    </tr>\n    <tr>\n      <th>4</th>\n      <td>tt0000005</td>\n      <td>short</td>\n      <td>Blacksmith Scene</td>\n      <td>Blacksmith Scene</td>\n      <td>0</td>\n      <td>1893.0</td>\n      <td>NaN</td>\n      <td>1.0</td>\n      <td>Comedy,Short</td>\n      <td>6.1</td>\n      <td>2050</td>\n    </tr>\n  </tbody>\n</table>\n</div>"
     },
     "metadata": {},
     "execution_count": 3
    }
   ],
   "source": [
    "movie_rating_df.head()"
   ]
  },
  {
   "source": [
    "# [Menampilkan 5 data teratas dan tipe data](https://academy.dqlab.id/main/projectcode/214/392/1970)"
   ],
   "cell_type": "markdown",
   "metadata": {}
  },
  {
   "cell_type": "code",
   "execution_count": 4,
   "metadata": {},
   "outputs": [
    {
     "output_type": "stream",
     "name": "stdout",
     "text": [
      "      tconst titleType            primaryTitle           originalTitle  \\\n",
      "0  tt0000001     short              Carmencita              Carmencita   \n",
      "1  tt0000002     short  Le clown et ses chiens  Le clown et ses chiens   \n",
      "2  tt0000003     short          Pauvre Pierrot          Pauvre Pierrot   \n",
      "3  tt0000004     short             Un bon bock             Un bon bock   \n",
      "4  tt0000005     short        Blacksmith Scene        Blacksmith Scene   \n",
      "\n",
      "   isAdult  startYear  endYear  runtimeMinutes                    genres  \\\n",
      "0        0     1894.0      NaN             1.0         Documentary,Short   \n",
      "1        0     1892.0      NaN             5.0           Animation,Short   \n",
      "2        0     1892.0      NaN             4.0  Animation,Comedy,Romance   \n",
      "3        0     1892.0      NaN            12.0           Animation,Short   \n",
      "4        0     1893.0      NaN             1.0              Comedy,Short   \n",
      "\n",
      "   averageRating  numVotes  \n",
      "0            5.6      1608  \n",
      "1            6.0       197  \n",
      "2            6.5      1285  \n",
      "3            6.1       121  \n",
      "4            6.1      2050  \n",
      "<class 'pandas.core.frame.DataFrame'>\n",
      "RangeIndex: 751614 entries, 0 to 751613\n",
      "Data columns (total 11 columns):\n",
      " #   Column          Non-Null Count   Dtype  \n",
      "---  ------          --------------   -----  \n",
      " 0   tconst          751614 non-null  object \n",
      " 1   titleType       751614 non-null  object \n",
      " 2   primaryTitle    751614 non-null  object \n",
      " 3   originalTitle   751614 non-null  object \n",
      " 4   isAdult         751614 non-null  int64  \n",
      " 5   startYear       751614 non-null  float64\n",
      " 6   endYear         16072 non-null   float64\n",
      " 7   runtimeMinutes  751614 non-null  float64\n",
      " 8   genres          486766 non-null  object \n",
      " 9   averageRating   751614 non-null  float64\n",
      " 10  numVotes        751614 non-null  int64  \n",
      "dtypes: float64(4), int64(2), object(5)\n",
      "memory usage: 63.1+ MB\n",
      "None\n"
     ]
    }
   ],
   "source": [
    "#tampilkan 5 baris teratas dari movive_rating_df\n",
    "print(movie_rating_df.head())\n",
    "\n",
    "#tampilkan info mengenai tipe data dari tiap kolom\n",
    "print(movie_rating_df.info())"
   ]
  },
  {
   "source": [
    "# [Add Actors Dataframe](https://academy.dqlab.id/main/projectcode/214/392/1971)"
   ],
   "cell_type": "markdown",
   "metadata": {}
  },
  {
   "cell_type": "code",
   "execution_count": 5,
   "metadata": {},
   "outputs": [
    {
     "output_type": "stream",
     "name": "stdout",
     "text": [
      "       nconst          primaryName birthYear deathYear  \\\n0   nm1774132    Nathan McLaughlin      1973        \\N   \n1  nm10683464        Bridge Andrew        \\N        \\N   \n2   nm1021485    Brandon Fransvaag        \\N        \\N   \n3   nm6940929   Erwin van der Lely        \\N        \\N   \n4   nm5764974  Svetlana Shypitsyna        \\N        \\N   \n\n                    primaryProfession                           knownForTitles  \n0  special_effects,make_up_department  tt0417686,tt1713976,tt1891860,tt0454839  \n1                               actor                                tt7718088  \n2                       miscellaneous                                tt0168790  \n3                       miscellaneous                                tt4232168  \n4                             actress                                tt3014168  \n<class 'pandas.core.frame.DataFrame'>\nRangeIndex: 1000 entries, 0 to 999\nData columns (total 6 columns):\n #   Column             Non-Null Count  Dtype \n---  ------             --------------  ----- \n 0   nconst             1000 non-null   object\n 1   primaryName        1000 non-null   object\n 2   birthYear          1000 non-null   object\n 3   deathYear          1000 non-null   object\n 4   primaryProfession  891 non-null    object\n 5   knownForTitles     1000 non-null   object\ndtypes: object(6)\nmemory usage: 47.0+ KB\nNone\n"
     ]
    }
   ],
   "source": [
    "#Simpan actor_name.csv pada variable name_df \n",
    "name_df = pd.read_csv('https://dqlab-dataset.s3-ap-southeast-1.amazonaws.com/actor_name.csv')\n",
    "\n",
    "#Tampilkan 5 baris teratas dari name_df\n",
    "print(name_df.head())\n",
    "\n",
    "#Tampilkan informasi mengenai tipe data dari tiap kolom pada name_df\n",
    "print(name_df.info())"
   ]
  },
  {
   "source": [
    "# [Add Directors and Writers Dataframe](https://academy.dqlab.id/main/projectcode/214/392/1972)"
   ],
   "cell_type": "markdown",
   "metadata": {}
  },
  {
   "cell_type": "code",
   "execution_count": 6,
   "metadata": {},
   "outputs": [
    {
     "output_type": "stream",
     "name": "stdout",
     "text": [
      "      tconst                   director_name  \\\n0  tt0011414                  David Kirkland   \n1  tt0011890               Roy William Neill   \n2  tt0014341  Buster Keaton,John G. Blystone   \n3  tt0018054                Cecil B. DeMille   \n4  tt0024151                     James Cruze   \n\n                                       writer_name  \n0                          John Emerson,Anita Loos  \n1     Arthur F. Goodrich,Burns Mantle,Mary Murillo  \n2  Jean C. Havez,Clyde Bruckman,Joseph A. Mitchell  \n3                                Jeanie Macpherson  \n4                 Max Miller,Wells Root,Jack Jevne  \n<class 'pandas.core.frame.DataFrame'>\nRangeIndex: 986 entries, 0 to 985\nData columns (total 3 columns):\n #   Column         Non-Null Count  Dtype \n---  ------         --------------  ----- \n 0   tconst         986 non-null    object\n 1   director_name  986 non-null    object\n 2   writer_name    986 non-null    object\ndtypes: object(3)\nmemory usage: 23.2+ KB\nNone\n"
     ]
    }
   ],
   "source": [
    "#Menyimpan dataset pada variabel director_writers\n",
    "director_writers = pd.read_csv('https://dqlab-dataset.s3-ap-southeast-1.amazonaws.com/directors_writers.csv')\n",
    "\n",
    "#Manampilkan 5 baris teratas\n",
    "print(director_writers.head())\n",
    "\n",
    "#Menampilkan informasi tipe data\n",
    "print(director_writers.info())"
   ]
  },
  {
   "source": [
    "# [Convert into List](https://academy.dqlab.id/main/projectcode/214/392/1973)"
   ],
   "cell_type": "markdown",
   "metadata": {}
  },
  {
   "cell_type": "code",
   "execution_count": 7,
   "metadata": {},
   "outputs": [
    {
     "output_type": "stream",
     "name": "stdout",
     "text": [
      "      tconst                      director_name  \\\n0  tt0011414                   [David Kirkland]   \n1  tt0011890                [Roy William Neill]   \n2  tt0014341  [Buster Keaton, John G. Blystone]   \n3  tt0018054                 [Cecil B. DeMille]   \n4  tt0024151                      [James Cruze]   \n\n                                         writer_name  \n0                         [John Emerson, Anita Loos]  \n1   [Arthur F. Goodrich, Burns Mantle, Mary Murillo]  \n2  [Jean C. Havez, Clyde Bruckman, Joseph A. Mitc...  \n3                                [Jeanie Macpherson]  \n4               [Max Miller, Wells Root, Jack Jevne]  \n"
     ]
    }
   ],
   "source": [
    "import pandas as pd\n",
    "director_writers = pd.read_csv('https://dqlab-dataset.s3-ap-southeast-1.amazonaws.com/directors_writers.csv')\n",
    "\n",
    "#Mengubah director_name menjadi list\n",
    "director_writers['director_name'] = director_writers['director_name'].apply(lambda row: row.split(','))\n",
    "director_writers['writer_name'] = director_writers['writer_name'].apply(lambda row: row.split(','))\n",
    "\n",
    "#Tampilkan 5 data teratas\n",
    "print(director_writers.head())"
   ]
  },
  {
   "source": [
    "# [Update name_df](https://academy.dqlab.id/main/projectcode/214/393/1974)"
   ],
   "cell_type": "markdown",
   "metadata": {}
  },
  {
   "cell_type": "code",
   "execution_count": 8,
   "metadata": {},
   "outputs": [
    {
     "output_type": "stream",
     "name": "stdout",
     "text": [
      "       nconst          primaryName                           knownForTitles\n0   nm1774132    Nathan McLaughlin  tt0417686,tt1713976,tt1891860,tt0454839\n1  nm10683464        Bridge Andrew                                tt7718088\n2   nm1021485    Brandon Fransvaag                                tt0168790\n3   nm6940929   Erwin van der Lely                                tt4232168\n4   nm5764974  Svetlana Shypitsyna                                tt3014168\n"
     ]
    }
   ],
   "source": [
    "name_df = pd.read_csv('https://dqlab-dataset.s3-ap-southeast-1.amazonaws.com/actor_name.csv')\n",
    "#Kita hanya akan membutuhkan kolom nconst, primaryName, dan knownForTitles\n",
    "name_df = name_df[['nconst','primaryName','knownForTitles']]\n",
    "\n",
    "#Tampilkan 5 baris teratas dari name_df\n",
    "print(name_df.head())"
   ]
  },
  {
   "source": [
    "# [Movies per Actor](https://academy.dqlab.id/main/projectcode/214/393/1975)"
   ],
   "cell_type": "markdown",
   "metadata": {}
  },
  {
   "cell_type": "code",
   "execution_count": 9,
   "metadata": {},
   "outputs": [
    {
     "output_type": "stream",
     "name": "stdout",
     "text": [
      "[4 1 2 3]\n       nconst          primaryName  \\\n0   nm1774132    Nathan McLaughlin   \n1  nm10683464        Bridge Andrew   \n2   nm1021485    Brandon Fransvaag   \n3   nm6940929   Erwin van der Lely   \n4   nm5764974  Svetlana Shypitsyna   \n\n                                 knownForTitles  \n0  [tt0417686, tt1713976, tt1891860, tt0454839]  \n1                                   [tt7718088]  \n2                                   [tt0168790]  \n3                                   [tt4232168]  \n4                                   [tt3014168]  \n"
     ]
    }
   ],
   "source": [
    "#Melakukan pengecekan variasi\n",
    "print(name_df['knownForTitles'].apply(lambda x: len(x.split(','))).unique())\n",
    "\n",
    "#Mengubah knownForTitles menjadi list of list\n",
    "name_df['knownForTitles'] = name_df['knownForTitles'].apply(lambda x: x.split(','))\n",
    "\n",
    "#Mencetak 5 baris teratas\n",
    "print(name_df.head())"
   ]
  },
  {
   "source": [
    "# [Korespondensi 1 - 1](https://academy.dqlab.id/main/projectcode/214/393/1976)"
   ],
   "cell_type": "markdown",
   "metadata": {}
  },
  {
   "cell_type": "code",
   "execution_count": 10,
   "metadata": {},
   "outputs": [
    {
     "output_type": "stream",
     "name": "stdout",
     "text": [
      "         nconst        primaryName knownForTitles\n0     nm1774132  Nathan McLaughlin      tt0417686\n0     nm1774132  Nathan McLaughlin      tt1713976\n0     nm1774132  Nathan McLaughlin      tt1891860\n0     nm1774132  Nathan McLaughlin      tt0454839\n1    nm10683464      Bridge Andrew      tt7718088\n..          ...                ...            ...\n998   nm5245804      Eliza Jenkins      tt1464058\n999   nm0948460         Greg Yolen      tt0436869\n999   nm0948460         Greg Yolen      tt0476663\n999   nm0948460         Greg Yolen      tt0109723\n999   nm0948460         Greg Yolen      tt0364484\n\n[1918 rows x 3 columns]\n"
     ]
    }
   ],
   "source": [
    "import numpy as np\n",
    "\n",
    "#menyiapkan bucket untuk dataframe\n",
    "df_uni = []\n",
    "\n",
    "for x in ['knownForTitles']:\n",
    "\t#mengulang index dari tiap baris sampai tiap elemen dari knownForTitles\n",
    "\tidx = name_df.index.repeat(name_df['knownForTitles'].str.len())\n",
    "\n",
    "\t#memecah values dari list di setiap baris dan menggabungkan nya dengan rows lain menjadi dataframe\n",
    "\tdf1 = pd.DataFrame({\n",
    "\t\tx: np.concatenate(name_df[x].values)\n",
    "\t})\n",
    "\n",
    "\t#mengganti index dataframe tersebut dengan idx yang sudah kita define di awal\n",
    "\tdf1.index = idx\n",
    "\n",
    "\t#untuk setiap dataframe yang terbentuk, kita menambahkan ke dataframe bucket\n",
    "\tdf_uni.append(df1)\n",
    "\n",
    "#menggabungkan semua dataframe menjadi satu\n",
    "df_concat = pd.concat(df_uni, axis=1)\n",
    "\n",
    "#join dengan value dari dataframe yang awal\n",
    "unnested_df = df_concat.join(name_df.drop(['knownForTitles'], 1), how='left')\n",
    "\n",
    "#select kolom sesuai dengan dataframe awal\n",
    "unnested_df = unnested_df[name_df.columns.tolist()]\n",
    "print(unnested_df)"
   ]
  },
  {
   "source": [
    "# [Mengelompokkan primaryName menjadi list group by knownForTitles](https://academy.dqlab.id/main/projectcode/214/394/1977)"
   ],
   "cell_type": "markdown",
   "metadata": {}
  },
  {
   "cell_type": "code",
   "execution_count": 11,
   "metadata": {},
   "outputs": [
    {
     "output_type": "stream",
     "name": "stdout",
     "text": [
      "     knownForTitles           cast_name\n0         tt0008125    [Charles Harley]\n1         tt0009706    [Charles Harley]\n2         tt0010304  [Natalie Talmadge]\n3         tt0011414  [Natalie Talmadge]\n4         tt0011890  [Natalie Talmadge]\n...             ...                 ...\n1893      tt9610496  [Stefano Baffetti]\n1894      tt9714030        [Kevin Kain]\n1895      tt9741820   [Caroline Plyler]\n1896      tt9759814     [Ethan Francis]\n1897      tt9856236     [Nuala Maguire]\n\n[1898 rows x 2 columns]\n"
     ]
    }
   ],
   "source": [
    "unnested_drop = unnested_df.drop(['nconst'], axis=1)\n",
    "\n",
    "#menyiapkan bucket untuk dataframe\n",
    "df_uni = []\n",
    "\n",
    "for col in ['primaryName']:\n",
    "    #agregasi kolom PrimaryName sesuai group_col yang sudah di define di atas\n",
    "    dfi = unnested_drop.groupby(['knownForTitles'])[col].apply(list)\n",
    "    #Lakukan append\n",
    "    df_uni.append(dfi)\n",
    "df_grouped = pd.concat(df_uni, axis=1).reset_index()\n",
    "df_grouped.columns = ['knownForTitles','cast_name']\n",
    "print(df_grouped)"
   ]
  },
  {
   "source": [
    "# [Join table](https://academy.dqlab.id/main/projectcode/214/395/1978)"
   ],
   "cell_type": "markdown",
   "metadata": {}
  },
  {
   "cell_type": "code",
   "execution_count": 12,
   "metadata": {},
   "outputs": [
    {
     "output_type": "stream",
     "name": "stdout",
     "text": [
      "  knownForTitles           cast_name     tconst titleType  \\\n0      tt0011414  [Natalie Talmadge]  tt0011414     movie   \n1      tt0011890  [Natalie Talmadge]  tt0011890     movie   \n2      tt0014341  [Natalie Talmadge]  tt0014341     movie   \n3      tt0018054     [Reeka Roberts]  tt0018054     movie   \n4      tt0024151     [James Hackett]  tt0024151     movie   \n\n             primaryTitle           originalTitle  isAdult  startYear  \\\n0         The Love Expert         The Love Expert        0     1920.0   \n1               Yes or No               Yes or No        0     1920.0   \n2         Our Hospitality         Our Hospitality        0     1923.0   \n3       The King of Kings       The King of Kings        0     1927.0   \n4  I Cover the Waterfront  I Cover the Waterfront        0     1933.0   \n\n   endYear  runtimeMinutes                   genres  averageRating  numVotes  \\\n0      NaN            60.0           Comedy,Romance            4.9       136   \n1      NaN            72.0                      NaN            6.3         7   \n2      NaN            65.0  Comedy,Romance,Thriller            7.8      9621   \n3      NaN           155.0  Biography,Drama,History            7.3      1826   \n4      NaN            80.0            Drama,Romance            6.3       455   \n\n                       director_name  \\\n0                   [David Kirkland]   \n1                [Roy William Neill]   \n2  [Buster Keaton, John G. Blystone]   \n3                 [Cecil B. DeMille]   \n4                      [James Cruze]   \n\n                                         writer_name  \n0                         [John Emerson, Anita Loos]  \n1   [Arthur F. Goodrich, Burns Mantle, Mary Murillo]  \n2  [Jean C. Havez, Clyde Bruckman, Joseph A. Mitc...  \n3                                [Jeanie Macpherson]  \n4               [Max Miller, Wells Root, Jack Jevne]  \n"
     ]
    }
   ],
   "source": [
    "movie_rating_df = pd.read_csv('https://dqlab-dataset.s3-ap-southeast-1.amazonaws.com/movie_rating_df.csv')\n",
    "\n",
    "#join antara movie table dan cast table \n",
    "base_df = pd.merge(df_grouped, movie_rating_df, left_on='knownForTitles', right_on='tconst', how='inner')\n",
    "\n",
    "#join antara base_df dengan director_writer table\n",
    "base_df = pd.merge(base_df, director_writers, left_on='tconst', right_on='tconst', how='left')\n",
    "print(base_df.head())"
   ]
  },
  {
   "source": [
    "# [Cleaning data](https://academy.dqlab.id/main/projectcode/214/395/1980)"
   ],
   "cell_type": "markdown",
   "metadata": {}
  },
  {
   "cell_type": "code",
   "execution_count": 13,
   "metadata": {},
   "outputs": [
    {
     "output_type": "stream",
     "name": "stdout",
     "text": [
      "<class 'pandas.core.frame.DataFrame'>\nInt64Index: 1060 entries, 0 to 1059\nData columns (total 14 columns):\n #   Column          Non-Null Count  Dtype  \n---  ------          --------------  -----  \n 0   cast_name       1060 non-null   object \n 1   tconst          1060 non-null   object \n 2   titleType       1060 non-null   object \n 3   primaryTitle    1060 non-null   object \n 4   originalTitle   1060 non-null   object \n 5   isAdult         1060 non-null   int64  \n 6   startYear       1060 non-null   float64\n 7   endYear         110 non-null    float64\n 8   runtimeMinutes  1060 non-null   float64\n 9   genres          745 non-null    object \n 10  averageRating   1060 non-null   float64\n 11  numVotes        1060 non-null   int64  \n 12  director_name   986 non-null    object \n 13  writer_name     986 non-null    object \ndtypes: float64(4), int64(2), object(8)\nmemory usage: 124.2+ KB\nNone\ncast_name           0\ntconst              0\ntitleType           0\nprimaryTitle        0\noriginalTitle       0\nisAdult             0\nstartYear           0\nendYear           950\nruntimeMinutes      0\ngenres              0\naverageRating       0\nnumVotes            0\ndirector_name      74\nwriter_name        74\ndtype: int64\n"
     ]
    }
   ],
   "source": [
    "#Melakukan drop terhadap kolom knownForTitles\n",
    "base_drop = base_df.drop(['knownForTitles'], axis=1)\n",
    "print(base_drop.info())\n",
    "\n",
    "#Mengganti nilai NULL pada kolom genres dengan 'Unknown'\n",
    "base_drop['genres'] = base_drop['genres'].fillna('Unknown')\n",
    "\n",
    "#Melakukan perhitungan jumlah nilai NULL pada tiap kolom\n",
    "print(base_drop.isnull().sum())\n",
    "\n",
    "#Mengganti nilai NULL pada kolom dorector_name dan writer_name dengan 'Unknown'\n",
    "base_drop[['director_name','writer_name']] = base_drop[['director_name','writer_name']].fillna('unknown')\n",
    "\n",
    "#karena value kolom genres terdapat multiple values, jadi kita akan bungkus menjadi list of list\n",
    "base_drop['genres'] = base_drop['genres'].apply(lambda x: x.split(','))"
   ]
  },
  {
   "source": [
    "# [Reformat table base_df](https://academy.dqlab.id/main/projectcode/214/395/1981)"
   ],
   "cell_type": "markdown",
   "metadata": {}
  },
  {
   "cell_type": "code",
   "execution_count": 14,
   "metadata": {},
   "outputs": [
    {
     "output_type": "stream",
     "name": "stdout",
     "text": [
      "                    title   type   start  duration  \\\n0         The Love Expert  movie  1920.0      60.0   \n1               Yes or No  movie  1920.0      72.0   \n2         Our Hospitality  movie  1923.0      65.0   \n3       The King of Kings  movie  1927.0     155.0   \n4  I Cover the Waterfront  movie  1933.0      80.0   \n\n                        genres  rating  votes           cast_name  \\\n0            [Comedy, Romance]     4.9    136  [Natalie Talmadge]   \n1                    [Unknown]     6.3      7  [Natalie Talmadge]   \n2  [Comedy, Romance, Thriller]     7.8   9621  [Natalie Talmadge]   \n3  [Biography, Drama, History]     7.3   1826     [Reeka Roberts]   \n4             [Drama, Romance]     6.3    455     [James Hackett]   \n\n                       director_name  \\\n0                   [David Kirkland]   \n1                [Roy William Neill]   \n2  [Buster Keaton, John G. Blystone]   \n3                 [Cecil B. DeMille]   \n4                      [James Cruze]   \n\n                                         writer_name  \n0                         [John Emerson, Anita Loos]  \n1   [Arthur F. Goodrich, Burns Mantle, Mary Murillo]  \n2  [Jean C. Havez, Clyde Bruckman, Joseph A. Mitc...  \n3                                [Jeanie Macpherson]  \n4               [Max Miller, Wells Root, Jack Jevne]  \n"
     ]
    }
   ],
   "source": [
    "#Drop kolom tconst, isAdult, endYear, originalTitle\n",
    "base_drop2 = base_drop.drop(['tconst','isAdult','endYear','originalTitle'], axis=1)\n",
    "\n",
    "base_drop2 = base_drop2[['primaryTitle','titleType','startYear','runtimeMinutes','genres','averageRating','numVotes','cast_name','director_name','writer_name']]\n",
    "\n",
    "base_drop2.columns = ['title','type','start','duration','genres','rating','votes','cast_name','director_name','writer_name']\n",
    "print(base_drop2.head())"
   ]
  },
  {
   "source": [
    "# [Klasifikasi Metadata](https://academy.dqlab.id/main/projectcode/214/396/1982)"
   ],
   "cell_type": "markdown",
   "metadata": {}
  },
  {
   "cell_type": "code",
   "execution_count": 15,
   "metadata": {},
   "outputs": [
    {
     "output_type": "stream",
     "name": "stdout",
     "text": [
      "                    title           cast_name                       genres  \\\n0         The Love Expert  [Natalie Talmadge]            [Comedy, Romance]   \n1               Yes or No  [Natalie Talmadge]                    [Unknown]   \n2         Our Hospitality  [Natalie Talmadge]  [Comedy, Romance, Thriller]   \n3       The King of Kings     [Reeka Roberts]  [Biography, Drama, History]   \n4  I Cover the Waterfront     [James Hackett]             [Drama, Romance]   \n\n                       director_name  \\\n0                   [David Kirkland]   \n1                [Roy William Neill]   \n2  [Buster Keaton, John G. Blystone]   \n3                 [Cecil B. DeMille]   \n4                      [James Cruze]   \n\n                                         writer_name  \n0                         [John Emerson, Anita Loos]  \n1   [Arthur F. Goodrich, Burns Mantle, Mary Murillo]  \n2  [Jean C. Havez, Clyde Bruckman, Joseph A. Mitc...  \n3                                [Jeanie Macpherson]  \n4               [Max Miller, Wells Root, Jack Jevne]  \n"
     ]
    }
   ],
   "source": [
    "#Klasifikasi berdasar title, cast_name, genres, director_name, dan writer_name\n",
    "feature_df = base_drop2[['title', 'cast_name', 'genres', 'director_name', 'writer_name']]\n",
    "\n",
    "#Tampilkan 5 baris teratas\n",
    "print(feature_df.head())"
   ]
  },
  {
   "source": [
    "# [Pertanyaan 1: Bagaimana cara membuat fungsi untuk strip spaces dari setiap row dan setiap elemennya?](https://academy.dqlab.id/main/projectcode/214/396/1983)"
   ],
   "cell_type": "markdown",
   "metadata": {}
  },
  {
   "cell_type": "code",
   "execution_count": 16,
   "metadata": {},
   "outputs": [],
   "source": [
    "def sanitize(x):\n",
    "    try:\n",
    "        #kalau cell berisi list\n",
    "        if isinstance(x, list):\n",
    "            return [i.replace(' ','').lower() for i in x]\n",
    "        #kalau cell berisi string\n",
    "        else:\n",
    "            return [x.replace(' ','').lower()]\n",
    "    except:\n",
    "        print(x)\n",
    "        \n",
    "#Kolom : cast_name, genres, writer_name, director_name        \n",
    "feature_cols = ['cast_name','genres','writer_name','director_name']\n",
    "\n",
    "#Apply function sanitize \n",
    "for col in feature_cols:\n",
    "    feature_df[col] = feature_df[col].apply(sanitize)"
   ]
  },
  {
   "source": [
    "# [Pertanyaan 2: Bagaimana cara membuat fungsi untuk membuat metadata soup (menggabungkan semua feature menjadi 1 bagian kalimat) untuk setiap judulnya?](https://academy.dqlab.id/main/projectcode/214/396/1984)"
   ],
   "cell_type": "markdown",
   "metadata": {}
  },
  {
   "cell_type": "code",
   "execution_count": 17,
   "metadata": {},
   "outputs": [],
   "source": [
    "#kolom yang digunakan : cast_name, genres, director_name, writer_name\n",
    "def soup_feature(x):\n",
    "    return ' '.join(x['cast_name']) + ' ' + ' '.join(x['genres']) + ' ' + ' '.join(x['director_name']) + ' ' + ' '.join(x['writer_name'])\n",
    "\n",
    "#membuat soup menjadi 1 kolom \n",
    "feature_df['soup'] = feature_df.apply(soup_feature, axis=1)"
   ]
  },
  {
   "source": [
    "# [Pertanyaan 3: Cara menyiapkan CountVectorizer (stop_words = english) dan fit dengan soup yang kita buat di atas](https://academy.dqlab.id/main/projectcode/214/396/1985)"
   ],
   "cell_type": "markdown",
   "metadata": {}
  },
  {
   "cell_type": "code",
   "execution_count": 19,
   "metadata": {},
   "outputs": [
    {
     "output_type": "stream",
     "name": "stdout",
     "text": [
      "CountVectorizer(stop_words='english')\n(1060, 10026)\n"
     ]
    }
   ],
   "source": [
    "#import CountVectorizer \n",
    "from sklearn.feature_extraction.text import CountVectorizer\n",
    "\n",
    "#definisikan CountVectorizer dan mengubah soup tadi menjadi bentuk vector\n",
    "count = CountVectorizer(stop_words='english')\n",
    "count_matrix = count.fit_transform(feature_df['soup'])\n",
    "\n",
    "print(count)\n",
    "print(count_matrix.shape)"
   ]
  },
  {
   "source": [
    "# [Pertanyaan 4: Cara membuat model similarity antara count matrix](https://academy.dqlab.id/main/projectcode/214/396/1986)"
   ],
   "cell_type": "markdown",
   "metadata": {}
  },
  {
   "cell_type": "code",
   "execution_count": 20,
   "metadata": {},
   "outputs": [
    {
     "output_type": "stream",
     "name": "stdout",
     "text": [
      "[[1.         0.15430335 0.35355339 ... 0.         0.         0.13608276]\n [0.15430335 1.         0.10910895 ... 0.         0.         0.        ]\n [0.35355339 0.10910895 1.         ... 0.         0.08703883 0.09622504]\n ...\n [0.         0.         0.         ... 1.         0.         0.        ]\n [0.         0.         0.08703883 ... 0.         1.         0.10050378]\n [0.13608276 0.         0.09622504 ... 0.         0.10050378 1.        ]]\n"
     ]
    }
   ],
   "source": [
    "#Import cosine_similarity\n",
    "from sklearn.metrics.pairwise import cosine_similarity\n",
    "\n",
    "#Gunakan cosine_similarity antara count_matrix \n",
    "cosine_sim = cosine_similarity(count_matrix, count_matrix)\n",
    "\n",
    "#print hasilnya\n",
    "print(cosine_sim) "
   ]
  },
  {
   "source": [
    " # [Pertanyaan 5: Cara membuat content based recommender system](https://academy.dqlab.id/main/projectcode/214/396/1987)"
   ],
   "cell_type": "markdown",
   "metadata": {}
  },
  {
   "cell_type": "code",
   "execution_count": 21,
   "metadata": {},
   "outputs": [
    {
     "output_type": "stream",
     "name": "stdout",
     "text": [
      "     knownForTitles                   cast_name      tconst titleType  \\\n848       tt3040964  [Cristina Carrión Márquez]   tt3040964     movie   \n383       tt0286336          [Francisco Bretas]   tt0286336  tvSeries   \n1002      tt7222086          [Hiroki Matsukawa]   tt7222086  tvSeries   \n73        tt0075147             [Joaquín Parra]   tt0075147     movie   \n232       tt0119051            [Chris Kosloski]   tt0119051     movie   \n556      tt10068158          [Hiroki Matsukawa]  tt10068158     movie   \n9         tt0028657            [Bernard Loftus]   tt0028657     movie   \n191       tt0107875               [Simon Mayal]   tt0107875     movie   \n803       tt2356464               [Sina Müller]   tt2356464     movie   \n983       tt6270328                   [Jo Boag]   tt6270328  tvSeries   \n\n                                         primaryTitle  \\\n848                                   The Jungle Book   \n383                      The Animals of Farthing Wood   \n1002                                    Made in Abyss   \n73                                   Robin and Marian   \n232                                          The Edge   \n556                     Made in Abyss: Journey's Dawn   \n9                               Boss of Lonely Valley   \n191                       The Princess and the Goblin   \n803                                           Ostwind   \n983   The Skinner Boys: Guardians of the Lost Secrets   \n\n                                        originalTitle  isAdult  startYear  \\\n848                                   The Jungle Book        0     2016.0   \n383                      The Animals of Farthing Wood        0     1993.0   \n1002                                    Made in Abyss        0     2017.0   \n73                                   Robin and Marian        0     1976.0   \n232                                          The Edge        0     1997.0   \n556                 Made in Abyss: Tabidachi no Yoake        0     2019.0   \n9                               Boss of Lonely Valley        0     1937.0   \n191                       The Princess and the Goblin        0     1991.0   \n803                                           Ostwind        0     2013.0   \n983   The Skinner Boys: Guardians of the Lost Secrets        0     2014.0   \n\n      endYear  runtimeMinutes                       genres  averageRating  \\\n848       NaN           106.0       Adventure,Drama,Family            7.4   \n383    1995.0            25.0    Adventure,Animation,Drama            8.3   \n1002      NaN           325.0    Adventure,Animation,Drama            8.4   \n73        NaN           106.0      Adventure,Drama,Romance            6.5   \n232       NaN           117.0       Action,Adventure,Drama            6.9   \n556       NaN           139.0  Adventure,Animation,Fantasy            7.4   \n9         NaN            60.0       Action,Adventure,Drama            6.2   \n191       NaN            82.0   Adventure,Animation,Comedy            6.8   \n803       NaN           101.0       Adventure,Drama,Family            6.8   \n983       NaN            23.0    Adventure,Animation,Drama            7.8   \n\n      numVotes                                      director_name  \\\n848     250994                                      [Jon Favreau]   \n383       3057             [Elphin Lloyd-Jones, Philippe Leclerc]   \n1002      4577  [Masayuki Kojima, Hitoshi Haga, Shinya Iino, T...   \n73       10830                                   [Richard Lester]   \n232      65673                                     [Lee Tamahori]   \n556         81                                  [Masayuki Kojima]   \n9           41                                       [Ray Taylor]   \n191       2350                                     [József Gémes]   \n803       1350                                [Katja von Garnier]   \n983         12        [Pablo De La Torre, Eugene Linkov, Jo Boag]   \n\n                                            writer_name  \n848                     [Justin Marks, Rudyard Kipling]  \n383   [Valerie Georgeson, Colin Dann, Jenny McDade, ...  \n1002  [Akihito Tsukushi, Keigo Koyanagi, Hideyuki Ku...  \n73                                      [James Goldman]  \n232                                       [David Mamet]  \n556                                  [Akihito Tsukushi]  \n9                       [Frances Guihan, Forrest Brown]  \n191                     [Robin Lyons, George MacDonald]  \n803          [Kristina Magdalena Henn, Lea Schmidbauer]  \n983   [David Witt, John Derevlany, David Evans, Pete...  \n"
     ]
    }
   ],
   "source": [
    "indices = pd.Series(feature_df.index, index=feature_df['title']).drop_duplicates()\n",
    "\n",
    "def content_recommender(title):\n",
    "    #mendapatkan index dari judul film (title) yang disebutkan\n",
    "    idx = indices[title]\n",
    "\n",
    "    #menjadikan list dari array similarity cosine sim \n",
    "    #hint: cosine_sim[idx]\n",
    "    sim_scores = list(enumerate(cosine_sim[idx]))\n",
    "\n",
    "    #mengurutkan film dari similarity tertinggi ke terendah\n",
    "    sim_scores = sorted(sim_scores, key=lambda x: x[1], reverse=True)\n",
    "\n",
    "    #untuk mendapatkan list judul dari item kedua sampe ke 11\n",
    "    sim_scores = sim_scores[1:11]\n",
    "\n",
    "    #mendapatkan index dari judul-judul yang muncul di sim_scores\n",
    "    movie_indices = [i[0] for i in sim_scores]\n",
    "\n",
    "    #dengan menggunakan iloc, kita bisa panggil balik berdasarkan index dari movie_indices\n",
    "    return base_df.iloc[movie_indices]\n",
    "\n",
    "#aplikasikan function di atas\n",
    "print(content_recommender('The Lion King'))"
   ]
  }
 ]
}